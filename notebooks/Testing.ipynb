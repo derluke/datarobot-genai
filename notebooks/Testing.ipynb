{
 "cells": [
  {
   "cell_type": "code",
   "execution_count": null,
   "id": "f5a599f4-55f0-41a3-b6f7-c570185ccf56",
   "metadata": {},
   "outputs": [],
   "source": [
    "%reload_kedro"
   ]
  },
  {
   "cell_type": "code",
   "execution_count": 4,
   "id": "abed4541-6258-43a9-bbfb-aa78ec51faec",
   "metadata": {},
   "outputs": [],
   "source": [
    "import datarobotx as drx\n",
    "import datarobot as dr"
   ]
  },
  {
   "cell_type": "code",
   "execution_count": 21,
   "id": "1d940ad1-1fa8-4e5c-bace-62fc76329ddc",
   "metadata": {},
   "outputs": [
    {
     "data": {
      "text/html": [
       "<pre style=\"white-space:pre;overflow-x:auto;line-height:normal;font-family:Menlo,'DejaVu Sans Mono',consolas,'Courier New',monospace\"></pre>\n"
      ],
      "text/plain": []
     },
     "metadata": {},
     "output_type": "display_data"
    },
    {
     "data": {
      "text/plain": [
       "\u001b[32m'5ddfc674b7b540002763b179'\u001b[0m"
      ]
     },
     "execution_count": 21,
     "metadata": {},
     "output_type": "execute_result"
    }
   ],
   "source": [
    "dr.PredictionServer.list()[0].id"
   ]
  },
  {
   "cell_type": "code",
   "execution_count": 22,
   "id": "adb16035-d835-4cf1-8196-9d63d691e483",
   "metadata": {},
   "outputs": [
    {
     "data": {
      "text/html": [
       "<pre style=\"white-space:pre;overflow-x:auto;line-height:normal;font-family:Menlo,'DejaVu Sans Mono',consolas,'Courier New',monospace\"></pre>\n"
      ],
      "text/plain": []
     },
     "metadata": {},
     "output_type": "display_data"
    },
    {
     "data": {
      "text/plain": [
       "\u001b[1m{\u001b[0m\u001b[32m'token'\u001b[0m: \u001b[32m'NWQzY2M3ZDg1YWZjOGE0NTcxNjEwNTcxOlBiZTkzZmJpS2pRWEFNNVR5M2Y2MVpGRi1VaHJYQU94'\u001b[0m, \u001b[32m'endpoint'\u001b[0m: \u001b[32m'https://staging.datarobot.com/api/v2'\u001b[0m, \u001b[32m'pred_server_id'\u001b[0m: \u001b[32m'5ddfc674b7b540002763b179'\u001b[0m, \u001b[32m'enable_api_consumer_tracking'\u001b[0m: \u001b[3;92mTrue\u001b[0m, \u001b[32m'trace_context'\u001b[0m: \u001b[3;35mNone\u001b[0m\u001b[1m}\u001b[0m"
      ]
     },
     "execution_count": 22,
     "metadata": {},
     "output_type": "execute_result"
    }
   ],
   "source": [
    "drx.Context(token=\"NWQzY2M3ZDg1YWZjOGE0NTcxNjEwNTcxOlBiZTkzZmJpS2pRWEFNNVR5M2Y2MVpGRi1VaHJYQU94\",\n",
    "            endpoint=\"https://staging.datarobot.com/api/v2\",\n",
    "           pred_server_id=dr.PredictionServer.list()[0].id)"
   ]
  },
  {
   "cell_type": "code",
   "execution_count": 49,
   "id": "8faed0a3-25f9-48c3-8043-042f903e8795",
   "metadata": {},
   "outputs": [],
   "source": [
    "client = dr.client.get_client()"
   ]
  },
  {
   "cell_type": "code",
   "execution_count": 55,
   "id": "66f79df4-45be-4985-b165-75faba053386",
   "metadata": {},
   "outputs": [
    {
     "data": {
      "text/html": [
       "<pre style=\"white-space:pre;overflow-x:auto;line-height:normal;font-family:Menlo,'DejaVu Sans Mono',consolas,'Courier New',monospace\"></pre>\n"
      ],
      "text/plain": []
     },
     "metadata": {},
     "output_type": "display_data"
    },
    {
     "data": {
      "text/plain": [
       "\n",
       "\u001b[1m{\u001b[0m\n",
       "    \u001b[32m'count'\u001b[0m: \u001b[1;36m5\u001b[0m,\n",
       "    \u001b[32m'next'\u001b[0m: \u001b[3;35mNone\u001b[0m,\n",
       "    \u001b[32m'previous'\u001b[0m: \u001b[3;35mNone\u001b[0m,\n",
       "    \u001b[32m'data'\u001b[0m: \u001b[1m[\u001b[0m\n",
       "        \u001b[1m{\u001b[0m\n",
       "            \u001b[32m'credentialId'\u001b[0m: \u001b[32m'6182eac694b09cb6b1842aa0'\u001b[0m,\n",
       "            \u001b[32m'name'\u001b[0m: \u001b[32m'lukas.innig@datarobot.com'\u001b[0m,\n",
       "            \u001b[32m'description'\u001b[0m: \u001b[32m''\u001b[0m,\n",
       "            \u001b[32m'creationDate'\u001b[0m: \u001b[32m'2021-11-03T20:02:14.487000Z'\u001b[0m,\n",
       "            \u001b[32m'credentialType'\u001b[0m: \u001b[32m'basic'\u001b[0m\n",
       "        \u001b[1m}\u001b[0m,\n",
       "        \u001b[1m{\u001b[0m\n",
       "            \u001b[32m'credentialId'\u001b[0m: \u001b[32m'63f6b3f4f91946fbb09b1dab'\u001b[0m,\n",
       "            \u001b[32m'name'\u001b[0m: \u001b[32m'DATAROBOT'\u001b[0m,\n",
       "            \u001b[32m'description'\u001b[0m: \u001b[32m''\u001b[0m,\n",
       "            \u001b[32m'creationDate'\u001b[0m: \u001b[32m'2023-02-23T00:31:48.437000Z'\u001b[0m,\n",
       "            \u001b[32m'credentialType'\u001b[0m: \u001b[32m'basic'\u001b[0m\n",
       "        \u001b[1m}\u001b[0m,\n",
       "        \u001b[1m{\u001b[0m\n",
       "            \u001b[32m'credentialId'\u001b[0m: \u001b[32m'65295350a0f36d7193553b49'\u001b[0m,\n",
       "            \u001b[32m'name'\u001b[0m: \u001b[32m'linnig'\u001b[0m,\n",
       "            \u001b[32m'description'\u001b[0m: \u001b[32m''\u001b[0m,\n",
       "            \u001b[32m'creationDate'\u001b[0m: \u001b[32m'2023-10-13T14:25:20.892000Z'\u001b[0m,\n",
       "            \u001b[32m'credentialType'\u001b[0m: \u001b[32m'databricks_access_token_account'\u001b[0m\n",
       "        \u001b[1m}\u001b[0m,\n",
       "        \u001b[1m{\u001b[0m\n",
       "            \u001b[32m'credentialId'\u001b[0m: \u001b[32m'654a5d4976af275871cac900'\u001b[0m,\n",
       "            \u001b[32m'name'\u001b[0m: \u001b[32m'Cohere API'\u001b[0m,\n",
       "            \u001b[32m'description'\u001b[0m: \u001b[32m''\u001b[0m,\n",
       "            \u001b[32m'creationDate'\u001b[0m: \u001b[32m'2023-11-07T15:52:41.078000Z'\u001b[0m,\n",
       "            \u001b[32m'credentialType'\u001b[0m: \u001b[32m'api_token'\u001b[0m\n",
       "        \u001b[1m}\u001b[0m,\n",
       "        \u001b[1m{\u001b[0m\n",
       "            \u001b[32m'credentialId'\u001b[0m: \u001b[32m'654ae101bed7cf385fd83c67'\u001b[0m,\n",
       "            \u001b[32m'name'\u001b[0m: \u001b[32m'cohere_api_token'\u001b[0m,\n",
       "            \u001b[32m'description'\u001b[0m: \u001b[32m''\u001b[0m,\n",
       "            \u001b[32m'creationDate'\u001b[0m: \u001b[32m'2023-11-08T01:14:41.064000Z'\u001b[0m,\n",
       "            \u001b[32m'credentialType'\u001b[0m: \u001b[32m'api_token'\u001b[0m\n",
       "        \u001b[1m}\u001b[0m\n",
       "    \u001b[1m]\u001b[0m,\n",
       "    \u001b[32m'totalCount'\u001b[0m: \u001b[1;36m5\u001b[0m\n",
       "\u001b[1m}\u001b[0m"
      ]
     },
     "execution_count": 55,
     "metadata": {},
     "output_type": "execute_result"
    }
   ],
   "source": [
    "client.get(\"credentials\").json()"
   ]
  },
  {
   "cell_type": "code",
   "execution_count": 60,
   "id": "3867e335-c7c1-4c31-860b-16f37fea4634",
   "metadata": {},
   "outputs": [
    {
     "data": {
      "text/html": [
       "<pre style=\"white-space:pre;overflow-x:auto;line-height:normal;font-family:Menlo,'DejaVu Sans Mono',consolas,'Courier New',monospace\"><span style=\"color: #800000; text-decoration-color: #800000\">╭─────────────────────────────── </span><span style=\"color: #800000; text-decoration-color: #800000; font-weight: bold\">Traceback </span><span style=\"color: #bf7f7f; text-decoration-color: #bf7f7f; font-weight: bold\">(most recent call last)</span><span style=\"color: #800000; text-decoration-color: #800000\"> ────────────────────────────────╮</span>\n",
       "<span style=\"color: #800000; text-decoration-color: #800000\">│</span> in <span style=\"color: #00ff00; text-decoration-color: #00ff00\">&lt;module&gt;</span>:<span style=\"color: #0000ff; text-decoration-color: #0000ff\">1</span>                                                                                    <span style=\"color: #800000; text-decoration-color: #800000\">│</span>\n",
       "<span style=\"color: #800000; text-decoration-color: #800000\">│</span>                                                                                                  <span style=\"color: #800000; text-decoration-color: #800000\">│</span>\n",
       "<span style=\"color: #800000; text-decoration-color: #800000\">│</span> <span style=\"color: #800000; text-decoration-color: #800000\">❱ </span>1 res = client.post(<span style=\"color: #808000; text-decoration-color: #808000\">\"credentials\"</span>, json={                                                      <span style=\"color: #800000; text-decoration-color: #800000\">│</span>\n",
       "<span style=\"color: #800000; text-decoration-color: #800000\">│</span>   <span style=\"color: #7f7f7f; text-decoration-color: #7f7f7f\">2 </span><span style=\"color: #7f7f7f; text-decoration-color: #7f7f7f\">│   │   │   </span>                                                                                 <span style=\"color: #800000; text-decoration-color: #800000\">│</span>\n",
       "<span style=\"color: #800000; text-decoration-color: #800000\">│</span>   <span style=\"color: #7f7f7f; text-decoration-color: #7f7f7f\">3 </span><span style=\"color: #7f7f7f; text-decoration-color: #7f7f7f\">│   │   │   </span><span style=\"color: #808000; text-decoration-color: #808000\">'name'</span>: <span style=\"color: #808000; text-decoration-color: #808000\">'cohere_api_token'</span>,                                                      <span style=\"color: #800000; text-decoration-color: #800000\">│</span>\n",
       "<span style=\"color: #800000; text-decoration-color: #800000\">│</span>   <span style=\"color: #7f7f7f; text-decoration-color: #7f7f7f\">4 </span><span style=\"color: #7f7f7f; text-decoration-color: #7f7f7f\">│   │   │   </span><span style=\"color: #808000; text-decoration-color: #808000\">'description'</span>: <span style=\"color: #808000; text-decoration-color: #808000\">'api_test'</span>,                                                       <span style=\"color: #800000; text-decoration-color: #800000\">│</span>\n",
       "<span style=\"color: #800000; text-decoration-color: #800000\">│</span>                                                                                                  <span style=\"color: #800000; text-decoration-color: #800000\">│</span>\n",
       "<span style=\"color: #800000; text-decoration-color: #800000\">│</span> <span style=\"color: #bfbf7f; text-decoration-color: #bfbf7f\">/Users/lukas.innig/code/genai/cert3/datarobot-genai/.venv/lib/python3.10/site-packages/datarobot</span> <span style=\"color: #800000; text-decoration-color: #800000\">│</span>\n",
       "<span style=\"color: #800000; text-decoration-color: #800000\">│</span> <span style=\"color: #bfbf7f; text-decoration-color: #bfbf7f\">/</span><span style=\"color: #808000; text-decoration-color: #808000; font-weight: bold\">rest.py</span>:<span style=\"color: #0000ff; text-decoration-color: #0000ff\">211</span> in <span style=\"color: #00ff00; text-decoration-color: #00ff00\">post</span>                                                                             <span style=\"color: #800000; text-decoration-color: #800000\">│</span>\n",
       "<span style=\"color: #800000; text-decoration-color: #800000\">│</span>                                                                                                  <span style=\"color: #800000; text-decoration-color: #800000\">│</span>\n",
       "<span style=\"color: #800000; text-decoration-color: #800000\">│</span>   <span style=\"color: #7f7f7f; text-decoration-color: #7f7f7f\">208 </span><span style=\"color: #7f7f7f; text-decoration-color: #7f7f7f\">│   </span>) -&gt; Response:                                                                         <span style=\"color: #800000; text-decoration-color: #800000\">│</span>\n",
       "<span style=\"color: #800000; text-decoration-color: #800000\">│</span>   <span style=\"color: #7f7f7f; text-decoration-color: #7f7f7f\">209 </span><span style=\"color: #7f7f7f; text-decoration-color: #7f7f7f\">│   │   </span><span style=\"color: #0000ff; text-decoration-color: #0000ff\">if</span> data:                                                                           <span style=\"color: #800000; text-decoration-color: #800000\">│</span>\n",
       "<span style=\"color: #800000; text-decoration-color: #800000\">│</span>   <span style=\"color: #7f7f7f; text-decoration-color: #7f7f7f\">210 </span><span style=\"color: #7f7f7f; text-decoration-color: #7f7f7f\">│   │   │   </span>kwargs[<span style=\"color: #808000; text-decoration-color: #808000\">\"json\"</span>] = to_api(data, keep_attrs)                                      <span style=\"color: #800000; text-decoration-color: #800000\">│</span>\n",
       "<span style=\"color: #800000; text-decoration-color: #800000\">│</span> <span style=\"color: #800000; text-decoration-color: #800000\">❱ </span>211 <span style=\"color: #7f7f7f; text-decoration-color: #7f7f7f\">│   │   </span><span style=\"color: #0000ff; text-decoration-color: #0000ff\">return</span> <span style=\"color: #00ffff; text-decoration-color: #00ffff\">self</span>.request(<span style=\"color: #808000; text-decoration-color: #808000\">\"post\"</span>, url, **kwargs)                                         <span style=\"color: #800000; text-decoration-color: #800000\">│</span>\n",
       "<span style=\"color: #800000; text-decoration-color: #800000\">│</span>   <span style=\"color: #7f7f7f; text-decoration-color: #7f7f7f\">212 </span><span style=\"color: #7f7f7f; text-decoration-color: #7f7f7f\">│   </span>                                                                                       <span style=\"color: #800000; text-decoration-color: #800000\">│</span>\n",
       "<span style=\"color: #800000; text-decoration-color: #800000\">│</span>   <span style=\"color: #7f7f7f; text-decoration-color: #7f7f7f\">213 </span><span style=\"color: #7f7f7f; text-decoration-color: #7f7f7f\">│   </span><span style=\"color: #0000ff; text-decoration-color: #0000ff\">def</span> <span style=\"color: #00ff00; text-decoration-color: #00ff00\">patch</span>(  <span style=\"color: #7f7f7f; text-decoration-color: #7f7f7f\"># type: ignore[override]</span>                                                   <span style=\"color: #800000; text-decoration-color: #800000\">│</span>\n",
       "<span style=\"color: #800000; text-decoration-color: #800000\">│</span>   <span style=\"color: #7f7f7f; text-decoration-color: #7f7f7f\">214 </span><span style=\"color: #7f7f7f; text-decoration-color: #7f7f7f\">│   │   </span><span style=\"color: #00ffff; text-decoration-color: #00ffff\">self</span>,                                                                              <span style=\"color: #800000; text-decoration-color: #800000\">│</span>\n",
       "<span style=\"color: #800000; text-decoration-color: #800000\">│</span>                                                                                                  <span style=\"color: #800000; text-decoration-color: #800000\">│</span>\n",
       "<span style=\"color: #800000; text-decoration-color: #800000\">│</span> <span style=\"color: #bfbf7f; text-decoration-color: #bfbf7f\">/Users/lukas.innig/code/genai/cert3/datarobot-genai/.venv/lib/python3.10/site-packages/datarobot</span> <span style=\"color: #800000; text-decoration-color: #800000\">│</span>\n",
       "<span style=\"color: #800000; text-decoration-color: #800000\">│</span> <span style=\"color: #bfbf7f; text-decoration-color: #bfbf7f\">/</span><span style=\"color: #808000; text-decoration-color: #808000; font-weight: bold\">rest.py</span>:<span style=\"color: #0000ff; text-decoration-color: #0000ff\">195</span> in <span style=\"color: #00ff00; text-decoration-color: #00ff00\">request</span>                                                                          <span style=\"color: #800000; text-decoration-color: #800000\">│</span>\n",
       "<span style=\"color: #800000; text-decoration-color: #800000\">│</span>                                                                                                  <span style=\"color: #800000; text-decoration-color: #800000\">│</span>\n",
       "<span style=\"color: #800000; text-decoration-color: #800000\">│</span>   <span style=\"color: #7f7f7f; text-decoration-color: #7f7f7f\">192 </span><span style=\"color: #7f7f7f; text-decoration-color: #7f7f7f\">│   │   </span>response = <span style=\"color: #00ffff; text-decoration-color: #00ffff\">super</span>().request(method, url, **kwargs)                                  <span style=\"color: #800000; text-decoration-color: #800000\">│</span>\n",
       "<span style=\"color: #800000; text-decoration-color: #800000\">│</span>   <span style=\"color: #7f7f7f; text-decoration-color: #7f7f7f\">193 </span><span style=\"color: #7f7f7f; text-decoration-color: #7f7f7f\">│   │   </span>handle_deprecation_header(response, **kwargs)                                      <span style=\"color: #800000; text-decoration-color: #800000\">│</span>\n",
       "<span style=\"color: #800000; text-decoration-color: #800000\">│</span>   <span style=\"color: #7f7f7f; text-decoration-color: #7f7f7f\">194 </span><span style=\"color: #7f7f7f; text-decoration-color: #7f7f7f\">│   │   </span><span style=\"color: #0000ff; text-decoration-color: #0000ff\">if</span> <span style=\"color: #ff00ff; text-decoration-color: #ff00ff\">not</span> response:                                                                   <span style=\"color: #800000; text-decoration-color: #800000\">│</span>\n",
       "<span style=\"color: #800000; text-decoration-color: #800000\">│</span> <span style=\"color: #800000; text-decoration-color: #800000\">❱ </span>195 <span style=\"color: #7f7f7f; text-decoration-color: #7f7f7f\">│   │   │   </span>handle_http_error(response, **kwargs)                                          <span style=\"color: #800000; text-decoration-color: #800000\">│</span>\n",
       "<span style=\"color: #800000; text-decoration-color: #800000\">│</span>   <span style=\"color: #7f7f7f; text-decoration-color: #7f7f7f\">196 </span><span style=\"color: #7f7f7f; text-decoration-color: #7f7f7f\">│   │   </span><span style=\"color: #0000ff; text-decoration-color: #0000ff\">return</span> response                                                                    <span style=\"color: #800000; text-decoration-color: #800000\">│</span>\n",
       "<span style=\"color: #800000; text-decoration-color: #800000\">│</span>   <span style=\"color: #7f7f7f; text-decoration-color: #7f7f7f\">197 </span><span style=\"color: #7f7f7f; text-decoration-color: #7f7f7f\">│   </span>                                                                                       <span style=\"color: #800000; text-decoration-color: #800000\">│</span>\n",
       "<span style=\"color: #800000; text-decoration-color: #800000\">│</span>   <span style=\"color: #7f7f7f; text-decoration-color: #7f7f7f\">198 </span><span style=\"color: #7f7f7f; text-decoration-color: #7f7f7f\">│   </span><span style=\"color: #0000ff; text-decoration-color: #0000ff\">def</span> <span style=\"color: #00ff00; text-decoration-color: #00ff00\">get</span>(<span style=\"color: #00ffff; text-decoration-color: #00ffff\">self</span>, url: <span style=\"color: #00ffff; text-decoration-color: #00ffff\">str</span>, params: Optional[Any] = <span style=\"color: #0000ff; text-decoration-color: #0000ff\">None</span>, **kwargs: Any) -&gt; Response:  <span style=\"color: #7f7f7f; text-decoration-color: #7f7f7f\">#</span>   <span style=\"color: #800000; text-decoration-color: #800000\">│</span>\n",
       "<span style=\"color: #800000; text-decoration-color: #800000\">│</span>                                                                                                  <span style=\"color: #800000; text-decoration-color: #800000\">│</span>\n",
       "<span style=\"color: #800000; text-decoration-color: #800000\">│</span> <span style=\"color: #bfbf7f; text-decoration-color: #bfbf7f\">/Users/lukas.innig/code/genai/cert3/datarobot-genai/.venv/lib/python3.10/site-packages/datarobot</span> <span style=\"color: #800000; text-decoration-color: #800000\">│</span>\n",
       "<span style=\"color: #800000; text-decoration-color: #800000\">│</span> <span style=\"color: #bfbf7f; text-decoration-color: #bfbf7f\">/</span><span style=\"color: #808000; text-decoration-color: #808000; font-weight: bold\">rest.py</span>:<span style=\"color: #0000ff; text-decoration-color: #0000ff\">376</span> in <span style=\"color: #00ff00; text-decoration-color: #00ff00\">handle_http_error</span>                                                                <span style=\"color: #800000; text-decoration-color: #800000\">│</span>\n",
       "<span style=\"color: #800000; text-decoration-color: #800000\">│</span>                                                                                                  <span style=\"color: #800000; text-decoration-color: #800000\">│</span>\n",
       "<span style=\"color: #800000; text-decoration-color: #800000\">│</span>   <span style=\"color: #7f7f7f; text-decoration-color: #7f7f7f\">373 </span><span style=\"color: #7f7f7f; text-decoration-color: #7f7f7f\">│   │   │   </span>parsed_json = {}                                                               <span style=\"color: #800000; text-decoration-color: #800000\">│</span>\n",
       "<span style=\"color: #800000; text-decoration-color: #800000\">│</span>   <span style=\"color: #7f7f7f; text-decoration-color: #7f7f7f\">374 </span><span style=\"color: #7f7f7f; text-decoration-color: #7f7f7f\">│   │   </span>template = <span style=\"color: #808000; text-decoration-color: #808000\">\"{} client error: {}\"</span>                                                   <span style=\"color: #800000; text-decoration-color: #800000\">│</span>\n",
       "<span style=\"color: #800000; text-decoration-color: #800000\">│</span>   <span style=\"color: #7f7f7f; text-decoration-color: #7f7f7f\">375 </span><span style=\"color: #7f7f7f; text-decoration-color: #7f7f7f\">│   │   </span>exc_message = template.format(response.status_code, message)                       <span style=\"color: #800000; text-decoration-color: #800000\">│</span>\n",
       "<span style=\"color: #800000; text-decoration-color: #800000\">│</span> <span style=\"color: #800000; text-decoration-color: #800000\">❱ </span>376 <span style=\"color: #7f7f7f; text-decoration-color: #7f7f7f\">│   │   </span><span style=\"color: #0000ff; text-decoration-color: #0000ff\">raise</span> exception_type(exc_message, response.status_code, json=parsed_json)          <span style=\"color: #800000; text-decoration-color: #800000\">│</span>\n",
       "<span style=\"color: #800000; text-decoration-color: #800000\">│</span>   <span style=\"color: #7f7f7f; text-decoration-color: #7f7f7f\">377 </span><span style=\"color: #7f7f7f; text-decoration-color: #7f7f7f\">│   </span><span style=\"color: #0000ff; text-decoration-color: #0000ff\">else</span>:                                                                                  <span style=\"color: #800000; text-decoration-color: #800000\">│</span>\n",
       "<span style=\"color: #800000; text-decoration-color: #800000\">│</span>   <span style=\"color: #7f7f7f; text-decoration-color: #7f7f7f\">378 </span><span style=\"color: #7f7f7f; text-decoration-color: #7f7f7f\">│   │   </span>template = <span style=\"color: #808000; text-decoration-color: #808000\">\"{} server error: {}\"</span>                                                   <span style=\"color: #800000; text-decoration-color: #800000\">│</span>\n",
       "<span style=\"color: #800000; text-decoration-color: #800000\">│</span>   <span style=\"color: #7f7f7f; text-decoration-color: #7f7f7f\">379 </span><span style=\"color: #7f7f7f; text-decoration-color: #7f7f7f\">│   │   </span>exc_message = template.format(response.status_code, message)                       <span style=\"color: #800000; text-decoration-color: #800000\">│</span>\n",
       "<span style=\"color: #800000; text-decoration-color: #800000\">╰──────────────────────────────────────────────────────────────────────────────────────────────────╯</span>\n",
       "<span style=\"color: #ff0000; text-decoration-color: #ff0000; font-weight: bold\">ClientError: </span><span style=\"color: #008080; text-decoration-color: #008080; font-weight: bold\">409</span> client error: <span style=\"font-weight: bold\">{</span><span style=\"color: #008000; text-decoration-color: #008000\">'message'</span>: <span style=\"color: #008000; text-decoration-color: #008000\">'The credential name: cohere_api_token is already in use'</span><span style=\"font-weight: bold\">}</span>\n",
       "</pre>\n"
      ],
      "text/plain": [
       "\u001b[31m╭─\u001b[0m\u001b[31m──────────────────────────────\u001b[0m\u001b[31m \u001b[0m\u001b[1;31mTraceback \u001b[0m\u001b[1;2;31m(most recent call last)\u001b[0m\u001b[31m \u001b[0m\u001b[31m───────────────────────────────\u001b[0m\u001b[31m─╮\u001b[0m\n",
       "\u001b[31m│\u001b[0m in \u001b[92m<module>\u001b[0m:\u001b[94m1\u001b[0m                                                                                    \u001b[31m│\u001b[0m\n",
       "\u001b[31m│\u001b[0m                                                                                                  \u001b[31m│\u001b[0m\n",
       "\u001b[31m│\u001b[0m \u001b[31m❱ \u001b[0m1 res = client.post(\u001b[33m\"\u001b[0m\u001b[33mcredentials\u001b[0m\u001b[33m\"\u001b[0m, json={                                                      \u001b[31m│\u001b[0m\n",
       "\u001b[31m│\u001b[0m   \u001b[2m2 \u001b[0m\u001b[2m│   │   │   \u001b[0m                                                                                 \u001b[31m│\u001b[0m\n",
       "\u001b[31m│\u001b[0m   \u001b[2m3 \u001b[0m\u001b[2m│   │   │   \u001b[0m\u001b[33m'\u001b[0m\u001b[33mname\u001b[0m\u001b[33m'\u001b[0m: \u001b[33m'\u001b[0m\u001b[33mcohere_api_token\u001b[0m\u001b[33m'\u001b[0m,                                                      \u001b[31m│\u001b[0m\n",
       "\u001b[31m│\u001b[0m   \u001b[2m4 \u001b[0m\u001b[2m│   │   │   \u001b[0m\u001b[33m'\u001b[0m\u001b[33mdescription\u001b[0m\u001b[33m'\u001b[0m: \u001b[33m'\u001b[0m\u001b[33mapi_test\u001b[0m\u001b[33m'\u001b[0m,                                                       \u001b[31m│\u001b[0m\n",
       "\u001b[31m│\u001b[0m                                                                                                  \u001b[31m│\u001b[0m\n",
       "\u001b[31m│\u001b[0m \u001b[2;33m/Users/lukas.innig/code/genai/cert3/datarobot-genai/.venv/lib/python3.10/site-packages/datarobot\u001b[0m \u001b[31m│\u001b[0m\n",
       "\u001b[31m│\u001b[0m \u001b[2;33m/\u001b[0m\u001b[1;33mrest.py\u001b[0m:\u001b[94m211\u001b[0m in \u001b[92mpost\u001b[0m                                                                             \u001b[31m│\u001b[0m\n",
       "\u001b[31m│\u001b[0m                                                                                                  \u001b[31m│\u001b[0m\n",
       "\u001b[31m│\u001b[0m   \u001b[2m208 \u001b[0m\u001b[2m│   \u001b[0m) -> Response:                                                                         \u001b[31m│\u001b[0m\n",
       "\u001b[31m│\u001b[0m   \u001b[2m209 \u001b[0m\u001b[2m│   │   \u001b[0m\u001b[94mif\u001b[0m data:                                                                           \u001b[31m│\u001b[0m\n",
       "\u001b[31m│\u001b[0m   \u001b[2m210 \u001b[0m\u001b[2m│   │   │   \u001b[0mkwargs[\u001b[33m\"\u001b[0m\u001b[33mjson\u001b[0m\u001b[33m\"\u001b[0m] = to_api(data, keep_attrs)                                      \u001b[31m│\u001b[0m\n",
       "\u001b[31m│\u001b[0m \u001b[31m❱ \u001b[0m211 \u001b[2m│   │   \u001b[0m\u001b[94mreturn\u001b[0m \u001b[96mself\u001b[0m.request(\u001b[33m\"\u001b[0m\u001b[33mpost\u001b[0m\u001b[33m\"\u001b[0m, url, **kwargs)                                         \u001b[31m│\u001b[0m\n",
       "\u001b[31m│\u001b[0m   \u001b[2m212 \u001b[0m\u001b[2m│   \u001b[0m                                                                                       \u001b[31m│\u001b[0m\n",
       "\u001b[31m│\u001b[0m   \u001b[2m213 \u001b[0m\u001b[2m│   \u001b[0m\u001b[94mdef\u001b[0m \u001b[92mpatch\u001b[0m(  \u001b[2m# type: ignore[override]\u001b[0m                                                   \u001b[31m│\u001b[0m\n",
       "\u001b[31m│\u001b[0m   \u001b[2m214 \u001b[0m\u001b[2m│   │   \u001b[0m\u001b[96mself\u001b[0m,                                                                              \u001b[31m│\u001b[0m\n",
       "\u001b[31m│\u001b[0m                                                                                                  \u001b[31m│\u001b[0m\n",
       "\u001b[31m│\u001b[0m \u001b[2;33m/Users/lukas.innig/code/genai/cert3/datarobot-genai/.venv/lib/python3.10/site-packages/datarobot\u001b[0m \u001b[31m│\u001b[0m\n",
       "\u001b[31m│\u001b[0m \u001b[2;33m/\u001b[0m\u001b[1;33mrest.py\u001b[0m:\u001b[94m195\u001b[0m in \u001b[92mrequest\u001b[0m                                                                          \u001b[31m│\u001b[0m\n",
       "\u001b[31m│\u001b[0m                                                                                                  \u001b[31m│\u001b[0m\n",
       "\u001b[31m│\u001b[0m   \u001b[2m192 \u001b[0m\u001b[2m│   │   \u001b[0mresponse = \u001b[96msuper\u001b[0m().request(method, url, **kwargs)                                  \u001b[31m│\u001b[0m\n",
       "\u001b[31m│\u001b[0m   \u001b[2m193 \u001b[0m\u001b[2m│   │   \u001b[0mhandle_deprecation_header(response, **kwargs)                                      \u001b[31m│\u001b[0m\n",
       "\u001b[31m│\u001b[0m   \u001b[2m194 \u001b[0m\u001b[2m│   │   \u001b[0m\u001b[94mif\u001b[0m \u001b[95mnot\u001b[0m response:                                                                   \u001b[31m│\u001b[0m\n",
       "\u001b[31m│\u001b[0m \u001b[31m❱ \u001b[0m195 \u001b[2m│   │   │   \u001b[0mhandle_http_error(response, **kwargs)                                          \u001b[31m│\u001b[0m\n",
       "\u001b[31m│\u001b[0m   \u001b[2m196 \u001b[0m\u001b[2m│   │   \u001b[0m\u001b[94mreturn\u001b[0m response                                                                    \u001b[31m│\u001b[0m\n",
       "\u001b[31m│\u001b[0m   \u001b[2m197 \u001b[0m\u001b[2m│   \u001b[0m                                                                                       \u001b[31m│\u001b[0m\n",
       "\u001b[31m│\u001b[0m   \u001b[2m198 \u001b[0m\u001b[2m│   \u001b[0m\u001b[94mdef\u001b[0m \u001b[92mget\u001b[0m(\u001b[96mself\u001b[0m, url: \u001b[96mstr\u001b[0m, params: Optional[Any] = \u001b[94mNone\u001b[0m, **kwargs: Any) -> Response:  \u001b[2m#\u001b[0m   \u001b[31m│\u001b[0m\n",
       "\u001b[31m│\u001b[0m                                                                                                  \u001b[31m│\u001b[0m\n",
       "\u001b[31m│\u001b[0m \u001b[2;33m/Users/lukas.innig/code/genai/cert3/datarobot-genai/.venv/lib/python3.10/site-packages/datarobot\u001b[0m \u001b[31m│\u001b[0m\n",
       "\u001b[31m│\u001b[0m \u001b[2;33m/\u001b[0m\u001b[1;33mrest.py\u001b[0m:\u001b[94m376\u001b[0m in \u001b[92mhandle_http_error\u001b[0m                                                                \u001b[31m│\u001b[0m\n",
       "\u001b[31m│\u001b[0m                                                                                                  \u001b[31m│\u001b[0m\n",
       "\u001b[31m│\u001b[0m   \u001b[2m373 \u001b[0m\u001b[2m│   │   │   \u001b[0mparsed_json = {}                                                               \u001b[31m│\u001b[0m\n",
       "\u001b[31m│\u001b[0m   \u001b[2m374 \u001b[0m\u001b[2m│   │   \u001b[0mtemplate = \u001b[33m\"\u001b[0m\u001b[33m{}\u001b[0m\u001b[33m client error: \u001b[0m\u001b[33m{}\u001b[0m\u001b[33m\"\u001b[0m                                                   \u001b[31m│\u001b[0m\n",
       "\u001b[31m│\u001b[0m   \u001b[2m375 \u001b[0m\u001b[2m│   │   \u001b[0mexc_message = template.format(response.status_code, message)                       \u001b[31m│\u001b[0m\n",
       "\u001b[31m│\u001b[0m \u001b[31m❱ \u001b[0m376 \u001b[2m│   │   \u001b[0m\u001b[94mraise\u001b[0m exception_type(exc_message, response.status_code, json=parsed_json)          \u001b[31m│\u001b[0m\n",
       "\u001b[31m│\u001b[0m   \u001b[2m377 \u001b[0m\u001b[2m│   \u001b[0m\u001b[94melse\u001b[0m:                                                                                  \u001b[31m│\u001b[0m\n",
       "\u001b[31m│\u001b[0m   \u001b[2m378 \u001b[0m\u001b[2m│   │   \u001b[0mtemplate = \u001b[33m\"\u001b[0m\u001b[33m{}\u001b[0m\u001b[33m server error: \u001b[0m\u001b[33m{}\u001b[0m\u001b[33m\"\u001b[0m                                                   \u001b[31m│\u001b[0m\n",
       "\u001b[31m│\u001b[0m   \u001b[2m379 \u001b[0m\u001b[2m│   │   \u001b[0mexc_message = template.format(response.status_code, message)                       \u001b[31m│\u001b[0m\n",
       "\u001b[31m╰──────────────────────────────────────────────────────────────────────────────────────────────────╯\u001b[0m\n",
       "\u001b[1;91mClientError: \u001b[0m\u001b[1;36m409\u001b[0m client error: \u001b[1m{\u001b[0m\u001b[32m'message'\u001b[0m: \u001b[32m'The credential name: cohere_api_token is already in use'\u001b[0m\u001b[1m}\u001b[0m\n"
      ]
     },
     "metadata": {},
     "output_type": "display_data"
    }
   ],
   "source": [
    "res = client.post(\"credentials\", json={\n",
    "\n",
    "            'name': 'cohere_api_token',\n",
    "            'description': 'api_test',\n",
    "            'credentialType': 'api_token',\n",
    "            'apiToken':\"test\"\n",
    "\n",
    "})"
   ]
  },
  {
   "cell_type": "code",
   "execution_count": 59,
   "id": "104f0a33-4529-41e7-90ec-aa275ea96770",
   "metadata": {},
   "outputs": [
    {
     "data": {
      "text/html": [
       "<pre style=\"white-space:pre;overflow-x:auto;line-height:normal;font-family:Menlo,'DejaVu Sans Mono',consolas,'Courier New',monospace\"></pre>\n"
      ],
      "text/plain": []
     },
     "metadata": {},
     "output_type": "display_data"
    },
    {
     "data": {
      "text/plain": [
       "\n",
       "\u001b[1m{\u001b[0m\n",
       "    \u001b[32m'credentialId'\u001b[0m: \u001b[32m'654aede0925c0f49ccd84063'\u001b[0m,\n",
       "    \u001b[32m'name'\u001b[0m: \u001b[32m'test'\u001b[0m,\n",
       "    \u001b[32m'description'\u001b[0m: \u001b[32m'api_test'\u001b[0m,\n",
       "    \u001b[32m'creationDate'\u001b[0m: \u001b[32m'2023-11-08T02:09:36.388518Z'\u001b[0m,\n",
       "    \u001b[32m'credentialType'\u001b[0m: \u001b[32m'api_token'\u001b[0m\n",
       "\u001b[1m}\u001b[0m"
      ]
     },
     "execution_count": 59,
     "metadata": {},
     "output_type": "execute_result"
    }
   ],
   "source": [
    "res.json()"
   ]
  },
  {
   "cell_type": "code",
   "execution_count": 48,
   "id": "b2645f95-4cf3-4c32-94e1-c78c48c7f7d8",
   "metadata": {},
   "outputs": [
    {
     "data": {
      "text/html": [
       "<pre style=\"white-space:pre;overflow-x:auto;line-height:normal;font-family:Menlo,'DejaVu Sans Mono',consolas,'Courier New',monospace\"></pre>\n"
      ],
      "text/plain": []
     },
     "metadata": {},
     "output_type": "display_data"
    },
    {
     "data": {
      "text/plain": [
       "\u001b[32m'654ae3d550ce8dc577495d45'\u001b[0m"
      ]
     },
     "execution_count": 48,
     "metadata": {},
     "output_type": "execute_result"
    }
   ],
   "source": [
    "deployment.dr_deployment.id"
   ]
  },
  {
   "cell_type": "code",
   "execution_count": 11,
   "id": "aec7e266-54a5-4f69-b1bc-3f862e0bfb1d",
   "metadata": {},
   "outputs": [],
   "source": [
    "# type: ignore\n",
    "import cohere\n",
    "import pandas as pd\n",
    "from datarobot_drum import RuntimeParameters\n",
    "\n",
    "\n",
    "def load_model(*args, **kwargs):\n",
    "    cohere_api_key = RuntimeParameters.get(\"cohere_api_key\")[\"apiToken\"]\n",
    "    return cohere.Client(cohere_api_key)\n",
    "\n",
    "\n",
    "def score(data, model, **kwargs):\n",
    "    prompts = data[\"promptText\"].tolist()\n",
    "    responses = []\n",
    "\n",
    "    for prompt in prompts:\n",
    "        response = model.generate(prompt)\n",
    "        responses.append(response[0].text)\n",
    "\n",
    "    return pd.DataFrame({\"resultText\": responses})\n"
   ]
  },
  {
   "cell_type": "code",
   "execution_count": 30,
   "id": "c37babfe-9438-4cb8-a0af-4528b6e7027b",
   "metadata": {},
   "outputs": [
    {
     "data": {
      "text/html": [
       "<pre style=\"white-space:pre;overflow-x:auto;line-height:normal;font-family:Menlo,'DejaVu Sans Mono',consolas,'Courier New',monospace\"><span style=\"color: #7fbfbf; text-decoration-color: #7fbfbf\">[11/08/23 01:11:25] </span><span style=\"color: #800000; text-decoration-color: #800000\">WARNING </span> <span style=\"color: #800080; text-decoration-color: #800080\">/Users/lukas.innig/code/genai/cert3/datarobot-genai/.venv/lib/python3.</span> <a href=\"file:///Users/lukas.innig/.pyenv/versions/3.10.4/lib/python3.10/warnings.py\" target=\"_blank\"><span style=\"color: #7f7f7f; text-decoration-color: #7f7f7f\">warnings.py</span></a><span style=\"color: #7f7f7f; text-decoration-color: #7f7f7f\">:</span><a href=\"file:///Users/lukas.innig/.pyenv/versions/3.10.4/lib/python3.10/warnings.py#109\" target=\"_blank\"><span style=\"color: #7f7f7f; text-decoration-color: #7f7f7f\">109</span></a>\n",
       "<span style=\"color: #7fbfbf; text-decoration-color: #7fbfbf\">                    </span>         <span style=\"color: #800080; text-decoration-color: #800080\">10/site-packages/IPython/core/magics/</span><span style=\"color: #ff00ff; text-decoration-color: #ff00ff\">osm.py</span>:<span style=\"color: #008080; text-decoration-color: #008080; font-weight: bold\">417</span>: UserWarning: using    <span style=\"color: #7f7f7f; text-decoration-color: #7f7f7f\">               </span>\n",
       "<span style=\"color: #7fbfbf; text-decoration-color: #7fbfbf\">                    </span>         dhist requires you to install the `pickleshare` library.               <span style=\"color: #7f7f7f; text-decoration-color: #7f7f7f\">               </span>\n",
       "<span style=\"color: #7fbfbf; text-decoration-color: #7fbfbf\">                    </span>           self.shell.db<span style=\"font-weight: bold\">[</span><span style=\"color: #008000; text-decoration-color: #008000\">'dhist'</span><span style=\"font-weight: bold\">]</span> = <span style=\"color: #800080; text-decoration-color: #800080; font-weight: bold\">compress_dhist</span><span style=\"font-weight: bold\">(</span>dhist<span style=\"font-weight: bold\">)[</span><span style=\"color: #008080; text-decoration-color: #008080; font-weight: bold\">-100</span>:<span style=\"font-weight: bold\">]</span>                <span style=\"color: #7f7f7f; text-decoration-color: #7f7f7f\">               </span>\n",
       "<span style=\"color: #7fbfbf; text-decoration-color: #7fbfbf\">                    </span>                                                                                <span style=\"color: #7f7f7f; text-decoration-color: #7f7f7f\">               </span>\n",
       "</pre>\n"
      ],
      "text/plain": [
       "\u001b[2;36m[11/08/23 01:11:25]\u001b[0m\u001b[2;36m \u001b[0m\u001b[31mWARNING \u001b[0m \u001b[35m/Users/lukas.innig/code/genai/cert3/datarobot-genai/.venv/lib/python3.\u001b[0m \u001b]8;id=572367;file:///Users/lukas.innig/.pyenv/versions/3.10.4/lib/python3.10/warnings.py\u001b\\\u001b[2mwarnings.py\u001b[0m\u001b]8;;\u001b\\\u001b[2m:\u001b[0m\u001b]8;id=391156;file:///Users/lukas.innig/.pyenv/versions/3.10.4/lib/python3.10/warnings.py#109\u001b\\\u001b[2m109\u001b[0m\u001b]8;;\u001b\\\n",
       "\u001b[2;36m                    \u001b[0m         \u001b[35m10/site-packages/IPython/core/magics/\u001b[0m\u001b[95mosm.py\u001b[0m:\u001b[1;36m417\u001b[0m: UserWarning: using    \u001b[2m               \u001b[0m\n",
       "\u001b[2;36m                    \u001b[0m         dhist requires you to install the `pickleshare` library.               \u001b[2m               \u001b[0m\n",
       "\u001b[2;36m                    \u001b[0m           self.shell.db\u001b[1m[\u001b[0m\u001b[32m'dhist'\u001b[0m\u001b[1m]\u001b[0m = \u001b[1;35mcompress_dhist\u001b[0m\u001b[1m(\u001b[0mdhist\u001b[1m)\u001b[0m\u001b[1m[\u001b[0m\u001b[1;36m-100\u001b[0m:\u001b[1m]\u001b[0m                \u001b[2m               \u001b[0m\n",
       "\u001b[2;36m                    \u001b[0m                                                                                \u001b[2m               \u001b[0m\n"
      ]
     },
     "metadata": {},
     "output_type": "display_data"
    },
    {
     "name": "stdout",
     "output_type": "stream",
     "text": [
      "/Users/lukas.innig/code/genai/cert3/datarobot-genai/data/01_raw/byo_llm_files\n"
     ]
    }
   ],
   "source": [
    "cd data/01_raw/byo_llm_files/"
   ]
  },
  {
   "cell_type": "code",
   "execution_count": null,
   "id": "3ffa0f14-b3a6-41d3-bf9a-05c99da1836c",
   "metadata": {},
   "outputs": [],
   "source": []
  },
  {
   "cell_type": "code",
   "execution_count": 13,
   "id": "460e1bac-754e-4f93-a972-27c53f30109f",
   "metadata": {},
   "outputs": [],
   "source": [
    "creds = dr.Credential.list()"
   ]
  },
  {
   "cell_type": "code",
   "execution_count": 14,
   "id": "9d7b155a-520c-491a-a89b-16940ec4e66c",
   "metadata": {},
   "outputs": [
    {
     "data": {
      "text/html": [
       "<pre style=\"white-space:pre;overflow-x:auto;line-height:normal;font-family:Menlo,'DejaVu Sans Mono',consolas,'Courier New',monospace\"></pre>\n"
      ],
      "text/plain": []
     },
     "metadata": {},
     "output_type": "display_data"
    },
    {
     "data": {
      "text/plain": [
       "\n",
       "\u001b[1m[\u001b[0m\n",
       "    \u001b[1;35mCredential\u001b[0m\u001b[1m(\u001b[0m\u001b[32m'6182eac694b09cb6b1842aa0'\u001b[0m, \u001b[32m'lukas.innig@datarobot.com'\u001b[0m, \u001b[32m'basic'\u001b[0m\u001b[1m)\u001b[0m,\n",
       "    \u001b[1;35mCredential\u001b[0m\u001b[1m(\u001b[0m\u001b[32m'63f6b3f4f91946fbb09b1dab'\u001b[0m, \u001b[32m'DATAROBOT'\u001b[0m, \u001b[32m'basic'\u001b[0m\u001b[1m)\u001b[0m,\n",
       "    \u001b[1;35mCredential\u001b[0m\u001b[1m(\u001b[0m\u001b[32m'65295350a0f36d7193553b49'\u001b[0m, \u001b[32m'linnig'\u001b[0m, \u001b[32m'databricks_access_token_account'\u001b[0m\u001b[1m)\u001b[0m,\n",
       "    \u001b[1;35mCredential\u001b[0m\u001b[1m(\u001b[0m\u001b[32m'654a5d4976af275871cac900'\u001b[0m, \u001b[32m'Cohere API'\u001b[0m, \u001b[32m'api_token'\u001b[0m\u001b[1m)\u001b[0m\n",
       "\u001b[1m]\u001b[0m"
      ]
     },
     "execution_count": 14,
     "metadata": {},
     "output_type": "execute_result"
    }
   ],
   "source": [
    "creds"
   ]
  },
  {
   "cell_type": "code",
   "execution_count": 31,
   "id": "5742bdc9-2cb6-4888-ac88-f96e3292d415",
   "metadata": {},
   "outputs": [
    {
     "name": "stdout",
     "output_type": "stream",
     "text": [
      "name: \"Cohere runtime parameters\"\n",
      "type: inference\n",
      "targetType: textgeneration\n",
      "\n",
      "runtimeParameterDefinitions:\n",
      "- fieldName: cohere_api_key\n",
      "  type: credential\n",
      "  credentialType: api_token\n",
      "  description: Cohere API key\n"
     ]
    }
   ],
   "source": [
    "!cat \"./model-metadata.yaml\""
   ]
  },
  {
   "cell_type": "code",
   "execution_count": 37,
   "id": "2cf8ea3e-2c17-4bf4-8140-57987d54b775",
   "metadata": {},
   "outputs": [
    {
     "data": {
      "application/vnd.jupyter.widget-view+json": {
       "model_id": "af51ef0909e14dfeaf2896ec32b752b0",
       "version_major": 2,
       "version_minor": 0
      },
      "text/plain": [
       "VBox()"
      ]
     },
     "metadata": {},
     "output_type": "display_data"
    },
    {
     "data": {
      "text/html": [
       "<pre style=\"white-space:pre;overflow-x:auto;line-height:normal;font-family:Menlo,'DejaVu Sans Mono',consolas,'Courier New',monospace\"><span style=\"color: #7fbfbf; text-decoration-color: #7fbfbf\">[11/08/23 01:22:27] </span><span style=\"color: #000080; text-decoration-color: #000080\">INFO    </span> Deploying custom model                                                   <a href=\"file:///Users/lukas.innig/code/genai/cert3/datarobot-genai/.venv/lib/python3.10/site-packages/datarobotx/models/deploy.py\" target=\"_blank\"><span style=\"color: #7f7f7f; text-decoration-color: #7f7f7f\">deploy.py</span></a><span style=\"color: #7f7f7f; text-decoration-color: #7f7f7f\">:</span><a href=\"file:///Users/lukas.innig/code/genai/cert3/datarobot-genai/.venv/lib/python3.10/site-packages/datarobotx/models/deploy.py#152\" target=\"_blank\"><span style=\"color: #7f7f7f; text-decoration-color: #7f7f7f\">152</span></a>\n",
       "</pre>\n"
      ],
      "text/plain": [
       "\u001b[2;36m[11/08/23 01:22:27]\u001b[0m\u001b[2;36m \u001b[0m\u001b[34mINFO    \u001b[0m Deploying custom model                                                   \u001b]8;id=604176;file:///Users/lukas.innig/code/genai/cert3/datarobot-genai/.venv/lib/python3.10/site-packages/datarobotx/models/deploy.py\u001b\\\u001b[2mdeploy.py\u001b[0m\u001b]8;;\u001b\\\u001b[2m:\u001b[0m\u001b]8;id=514407;file:///Users/lukas.innig/code/genai/cert3/datarobot-genai/.venv/lib/python3.10/site-packages/datarobotx/models/deploy.py#152\u001b\\\u001b[2m152\u001b[0m\u001b]8;;\u001b\\\n"
      ]
     },
     "metadata": {},
     "output_type": "display_data"
    },
    {
     "data": {
      "application/vnd.jupyter.widget-view+json": {
       "model_id": "571dccb128cc4f899d97128fa4d60133",
       "version_major": 2,
       "version_minor": 0
      },
      "text/plain": [
       "VBox()"
      ]
     },
     "metadata": {},
     "output_type": "display_data"
    },
    {
     "data": {
      "text/html": [
       "<pre style=\"white-space:pre;overflow-x:auto;line-height:normal;font-family:Menlo,'DejaVu Sans Mono',consolas,'Courier New',monospace\"><span style=\"color: #7fbfbf; text-decoration-color: #7fbfbf\">                    </span><span style=\"color: #000080; text-decoration-color: #000080\">INFO    </span> Unable to auto-detect model type; any provided paths and files will be   <a href=\"file:///Users/lukas.innig/code/genai/cert3/datarobot-genai/.venv/lib/python3.10/site-packages/datarobotx/models/deploy.py\" target=\"_blank\"><span style=\"color: #7f7f7f; text-decoration-color: #7f7f7f\">deploy.py</span></a><span style=\"color: #7f7f7f; text-decoration-color: #7f7f7f\">:</span><a href=\"file:///Users/lukas.innig/code/genai/cert3/datarobot-genai/.venv/lib/python3.10/site-packages/datarobotx/models/deploy.py#585\" target=\"_blank\"><span style=\"color: #7f7f7f; text-decoration-color: #7f7f7f\">585</span></a>\n",
       "<span style=\"color: #7fbfbf; text-decoration-color: #7fbfbf\">                    </span>         exported - dependencies should be explicitly specified using             <span style=\"color: #7f7f7f; text-decoration-color: #7f7f7f\">             </span>\n",
       "<span style=\"color: #7fbfbf; text-decoration-color: #7fbfbf\">                    </span>         `extra_requirements` or `environment_id`                                 <span style=\"color: #7f7f7f; text-decoration-color: #7f7f7f\">             </span>\n",
       "</pre>\n"
      ],
      "text/plain": [
       "\u001b[2;36m                   \u001b[0m\u001b[2;36m \u001b[0m\u001b[34mINFO    \u001b[0m Unable to auto-detect model type; any provided paths and files will be   \u001b]8;id=546450;file:///Users/lukas.innig/code/genai/cert3/datarobot-genai/.venv/lib/python3.10/site-packages/datarobotx/models/deploy.py\u001b\\\u001b[2mdeploy.py\u001b[0m\u001b]8;;\u001b\\\u001b[2m:\u001b[0m\u001b]8;id=736243;file:///Users/lukas.innig/code/genai/cert3/datarobot-genai/.venv/lib/python3.10/site-packages/datarobotx/models/deploy.py#585\u001b\\\u001b[2m585\u001b[0m\u001b]8;;\u001b\\\n",
       "\u001b[2;36m                    \u001b[0m         exported - dependencies should be explicitly specified using             \u001b[2m             \u001b[0m\n",
       "\u001b[2;36m                    \u001b[0m         `extra_requirements` or `environment_id`                                 \u001b[2m             \u001b[0m\n"
      ]
     },
     "metadata": {},
     "output_type": "display_data"
    },
    {
     "data": {
      "application/vnd.jupyter.widget-view+json": {
       "model_id": "d9327ebe08a7469ab23e16901c06b998",
       "version_major": 2,
       "version_minor": 0
      },
      "text/plain": [
       "VBox()"
      ]
     },
     "metadata": {},
     "output_type": "display_data"
    },
    {
     "data": {
      "text/html": [
       "<pre style=\"white-space:pre;overflow-x:auto;line-height:normal;font-family:Menlo,'DejaVu Sans Mono',consolas,'Courier New',monospace\"><span style=\"color: #7fbfbf; text-decoration-color: #7fbfbf\">                    </span><span style=\"color: #000080; text-decoration-color: #000080\">INFO    </span> Preparing model and environment<span style=\"color: #808000; text-decoration-color: #808000\">...</span>                                       <a href=\"file:///Users/lukas.innig/code/genai/cert3/datarobot-genai/.venv/lib/python3.10/site-packages/datarobotx/models/deploy.py\" target=\"_blank\"><span style=\"color: #7f7f7f; text-decoration-color: #7f7f7f\">deploy.py</span></a><span style=\"color: #7f7f7f; text-decoration-color: #7f7f7f\">:</span><a href=\"file:///Users/lukas.innig/code/genai/cert3/datarobot-genai/.venv/lib/python3.10/site-packages/datarobotx/models/deploy.py#256\" target=\"_blank\"><span style=\"color: #7f7f7f; text-decoration-color: #7f7f7f\">256</span></a>\n",
       "</pre>\n"
      ],
      "text/plain": [
       "\u001b[2;36m                   \u001b[0m\u001b[2;36m \u001b[0m\u001b[34mINFO    \u001b[0m Preparing model and environment\u001b[33m...\u001b[0m                                       \u001b]8;id=792249;file:///Users/lukas.innig/code/genai/cert3/datarobot-genai/.venv/lib/python3.10/site-packages/datarobotx/models/deploy.py\u001b\\\u001b[2mdeploy.py\u001b[0m\u001b]8;;\u001b\\\u001b[2m:\u001b[0m\u001b]8;id=106348;file:///Users/lukas.innig/code/genai/cert3/datarobot-genai/.venv/lib/python3.10/site-packages/datarobotx/models/deploy.py#256\u001b\\\u001b[2m256\u001b[0m\u001b]8;;\u001b\\\n"
      ]
     },
     "metadata": {},
     "output_type": "display_data"
    },
    {
     "data": {
      "text/html": [
       "<pre style=\"white-space:pre;overflow-x:auto;line-height:normal;font-family:Menlo,'DejaVu Sans Mono',consolas,'Courier New',monospace\"><span style=\"color: #7fbfbf; text-decoration-color: #7fbfbf\">[11/08/23 01:22:28] </span><span style=\"color: #000080; text-decoration-color: #000080\">INFO    </span> Using environment <span style=\"font-weight: bold\">[[</span>DataRobot<span style=\"font-weight: bold\">]</span> Python <span style=\"color: #008080; text-decoration-color: #008080; font-weight: bold\">3.9</span> GenAI                          <a href=\"file:///Users/lukas.innig/code/genai/cert3/datarobot-genai/.venv/lib/python3.10/site-packages/datarobotx/models/deploy.py\" target=\"_blank\"><span style=\"color: #7f7f7f; text-decoration-color: #7f7f7f\">deploy.py</span></a><span style=\"color: #7f7f7f; text-decoration-color: #7f7f7f\">:</span><a href=\"file:///Users/lukas.innig/code/genai/cert3/datarobot-genai/.venv/lib/python3.10/site-packages/datarobotx/models/deploy.py#470\" target=\"_blank\"><span style=\"color: #7f7f7f; text-decoration-color: #7f7f7f\">470</span></a>\n",
       "<span style=\"color: #7fbfbf; text-decoration-color: #7fbfbf\">                    </span>         v5<span style=\"font-weight: bold\">](</span><span style=\"color: #0000ff; text-decoration-color: #0000ff; text-decoration: underline\">https://staging.datarobot.com/model-registry/custom-environments/64c</span> <span style=\"color: #7f7f7f; text-decoration-color: #7f7f7f\">             </span>\n",
       "<span style=\"color: #7fbfbf; text-decoration-color: #7fbfbf\">                    </span>         <span style=\"color: #0000ff; text-decoration-color: #0000ff; text-decoration: underline\">964448dd3f0c07f47d040)</span> for deployment                                    <span style=\"color: #7f7f7f; text-decoration-color: #7f7f7f\">             </span>\n",
       "</pre>\n"
      ],
      "text/plain": [
       "\u001b[2;36m[11/08/23 01:22:28]\u001b[0m\u001b[2;36m \u001b[0m\u001b[34mINFO    \u001b[0m Using environment \u001b[1m[\u001b[0m\u001b[1m[\u001b[0mDataRobot\u001b[1m]\u001b[0m Python \u001b[1;36m3.9\u001b[0m GenAI                          \u001b]8;id=887179;file:///Users/lukas.innig/code/genai/cert3/datarobot-genai/.venv/lib/python3.10/site-packages/datarobotx/models/deploy.py\u001b\\\u001b[2mdeploy.py\u001b[0m\u001b]8;;\u001b\\\u001b[2m:\u001b[0m\u001b]8;id=287982;file:///Users/lukas.innig/code/genai/cert3/datarobot-genai/.venv/lib/python3.10/site-packages/datarobotx/models/deploy.py#470\u001b\\\u001b[2m470\u001b[0m\u001b]8;;\u001b\\\n",
       "\u001b[2;36m                    \u001b[0m         v5\u001b[1m]\u001b[0m\u001b[1m(\u001b[0m\u001b[4;94mhttps://staging.datarobot.com/model-registry/custom-environments/64c\u001b[0m \u001b[2m             \u001b[0m\n",
       "\u001b[2;36m                    \u001b[0m         \u001b[4;94m964448dd3f0c07f47d040\u001b[0m\u001b[4;94m)\u001b[0m for deployment                                    \u001b[2m             \u001b[0m\n"
      ]
     },
     "metadata": {},
     "output_type": "display_data"
    },
    {
     "data": {
      "text/html": [
       "<pre style=\"white-space:pre;overflow-x:auto;line-height:normal;font-family:Menlo,'DejaVu Sans Mono',consolas,'Courier New',monospace\"><span style=\"color: #7fbfbf; text-decoration-color: #7fbfbf\">                    </span><span style=\"color: #000080; text-decoration-color: #000080\">INFO    </span> Configuring and uploading custom model<span style=\"color: #808000; text-decoration-color: #808000\">...</span>                                <a href=\"file:///Users/lukas.innig/code/genai/cert3/datarobot-genai/.venv/lib/python3.10/site-packages/datarobotx/models/deploy.py\" target=\"_blank\"><span style=\"color: #7f7f7f; text-decoration-color: #7f7f7f\">deploy.py</span></a><span style=\"color: #7f7f7f; text-decoration-color: #7f7f7f\">:</span><a href=\"file:///Users/lukas.innig/code/genai/cert3/datarobot-genai/.venv/lib/python3.10/site-packages/datarobotx/models/deploy.py#472\" target=\"_blank\"><span style=\"color: #7f7f7f; text-decoration-color: #7f7f7f\">472</span></a>\n",
       "</pre>\n"
      ],
      "text/plain": [
       "\u001b[2;36m                   \u001b[0m\u001b[2;36m \u001b[0m\u001b[34mINFO    \u001b[0m Configuring and uploading custom model\u001b[33m...\u001b[0m                                \u001b]8;id=262906;file:///Users/lukas.innig/code/genai/cert3/datarobot-genai/.venv/lib/python3.10/site-packages/datarobotx/models/deploy.py\u001b\\\u001b[2mdeploy.py\u001b[0m\u001b]8;;\u001b\\\u001b[2m:\u001b[0m\u001b]8;id=629028;file:///Users/lukas.innig/code/genai/cert3/datarobot-genai/.venv/lib/python3.10/site-packages/datarobotx/models/deploy.py#472\u001b\\\u001b[2m472\u001b[0m\u001b]8;;\u001b\\\n"
      ]
     },
     "metadata": {},
     "output_type": "display_data"
    },
    {
     "data": {
      "text/html": [
       "<pre style=\"white-space:pre;overflow-x:auto;line-height:normal;font-family:Menlo,'DejaVu Sans Mono',consolas,'Courier New',monospace\"><span style=\"color: #7fbfbf; text-decoration-color: #7fbfbf\">[11/08/23 01:22:30] </span><span style=\"color: #000080; text-decoration-color: #000080\">INFO    </span> Incrementing custom model version to configure runtime <span style=\"color: #800080; text-decoration-color: #800080; font-weight: bold\">parameter</span><span style=\"font-weight: bold\">(</span>s<span style=\"font-weight: bold\">)</span><span style=\"color: #808000; text-decoration-color: #808000\">...</span>   <a href=\"file:///Users/lukas.innig/code/genai/cert3/datarobot-genai/.venv/lib/python3.10/site-packages/datarobotx/models/deploy.py\" target=\"_blank\"><span style=\"color: #7f7f7f; text-decoration-color: #7f7f7f\">deploy.py</span></a><span style=\"color: #7f7f7f; text-decoration-color: #7f7f7f\">:</span><a href=\"file:///Users/lukas.innig/code/genai/cert3/datarobot-genai/.venv/lib/python3.10/site-packages/datarobotx/models/deploy.py#479\" target=\"_blank\"><span style=\"color: #7f7f7f; text-decoration-color: #7f7f7f\">479</span></a>\n",
       "</pre>\n"
      ],
      "text/plain": [
       "\u001b[2;36m[11/08/23 01:22:30]\u001b[0m\u001b[2;36m \u001b[0m\u001b[34mINFO    \u001b[0m Incrementing custom model version to configure runtime \u001b[1;35mparameter\u001b[0m\u001b[1m(\u001b[0ms\u001b[1m)\u001b[0m\u001b[33m...\u001b[0m   \u001b]8;id=682621;file:///Users/lukas.innig/code/genai/cert3/datarobot-genai/.venv/lib/python3.10/site-packages/datarobotx/models/deploy.py\u001b\\\u001b[2mdeploy.py\u001b[0m\u001b]8;;\u001b\\\u001b[2m:\u001b[0m\u001b]8;id=541987;file:///Users/lukas.innig/code/genai/cert3/datarobot-genai/.venv/lib/python3.10/site-packages/datarobotx/models/deploy.py#479\u001b\\\u001b[2m479\u001b[0m\u001b]8;;\u001b\\\n"
      ]
     },
     "metadata": {},
     "output_type": "display_data"
    },
    {
     "data": {
      "text/html": [
       "<pre style=\"white-space:pre;overflow-x:auto;line-height:normal;font-family:Menlo,'DejaVu Sans Mono',consolas,'Courier New',monospace\"><span style=\"color: #7fbfbf; text-decoration-color: #7fbfbf\">[11/08/23 01:22:31] </span><span style=\"color: #000080; text-decoration-color: #000080\">INFO    </span> Registered custom model                                                  <a href=\"file:///Users/lukas.innig/code/genai/cert3/datarobot-genai/.venv/lib/python3.10/site-packages/datarobotx/models/deploy.py\" target=\"_blank\"><span style=\"color: #7f7f7f; text-decoration-color: #7f7f7f\">deploy.py</span></a><span style=\"color: #7f7f7f; text-decoration-color: #7f7f7f\">:</span><a href=\"file:///Users/lukas.innig/code/genai/cert3/datarobot-genai/.venv/lib/python3.10/site-packages/datarobotx/models/deploy.py#532\" target=\"_blank\"><span style=\"color: #7f7f7f; text-decoration-color: #7f7f7f\">532</span></a>\n",
       "<span style=\"color: #7fbfbf; text-decoration-color: #7fbfbf\">                    </span>         <span style=\"font-weight: bold\">[</span>xenodochial-kalam<span style=\"font-weight: bold\">](</span><span style=\"color: #0000ff; text-decoration-color: #0000ff; text-decoration: underline\">https://staging.datarobot.com/model-registry/custom-</span> <span style=\"color: #7f7f7f; text-decoration-color: #7f7f7f\">             </span>\n",
       "<span style=\"color: #7fbfbf; text-decoration-color: #7fbfbf\">                    </span>         <span style=\"color: #0000ff; text-decoration-color: #0000ff; text-decoration: underline\">models/654ae2d47506fec42bb47f35/info)</span> with target type: TextGeneration   <span style=\"color: #7f7f7f; text-decoration-color: #7f7f7f\">             </span>\n",
       "</pre>\n"
      ],
      "text/plain": [
       "\u001b[2;36m[11/08/23 01:22:31]\u001b[0m\u001b[2;36m \u001b[0m\u001b[34mINFO    \u001b[0m Registered custom model                                                  \u001b]8;id=550969;file:///Users/lukas.innig/code/genai/cert3/datarobot-genai/.venv/lib/python3.10/site-packages/datarobotx/models/deploy.py\u001b\\\u001b[2mdeploy.py\u001b[0m\u001b]8;;\u001b\\\u001b[2m:\u001b[0m\u001b]8;id=572926;file:///Users/lukas.innig/code/genai/cert3/datarobot-genai/.venv/lib/python3.10/site-packages/datarobotx/models/deploy.py#532\u001b\\\u001b[2m532\u001b[0m\u001b]8;;\u001b\\\n",
       "\u001b[2;36m                    \u001b[0m         \u001b[1m[\u001b[0mxenodochial-kalam\u001b[1m]\u001b[0m\u001b[1m(\u001b[0m\u001b[4;94mhttps://staging.datarobot.com/model-registry/custom-\u001b[0m \u001b[2m             \u001b[0m\n",
       "\u001b[2;36m                    \u001b[0m         \u001b[4;94mmodels/654ae2d47506fec42bb47f35/info\u001b[0m\u001b[4;94m)\u001b[0m with target type: TextGeneration   \u001b[2m             \u001b[0m\n"
      ]
     },
     "metadata": {},
     "output_type": "display_data"
    },
    {
     "data": {
      "text/html": [
       "<pre style=\"white-space:pre;overflow-x:auto;line-height:normal;font-family:Menlo,'DejaVu Sans Mono',consolas,'Courier New',monospace\"><span style=\"color: #7fbfbf; text-decoration-color: #7fbfbf\">                    </span><span style=\"color: #000080; text-decoration-color: #000080\">INFO    </span> Installing additional dependencies<span style=\"color: #808000; text-decoration-color: #808000\">...</span>                                    <a href=\"file:///Users/lukas.innig/code/genai/cert3/datarobot-genai/.venv/lib/python3.10/site-packages/datarobotx/models/deploy.py\" target=\"_blank\"><span style=\"color: #7f7f7f; text-decoration-color: #7f7f7f\">deploy.py</span></a><span style=\"color: #7f7f7f; text-decoration-color: #7f7f7f\">:</span><a href=\"file:///Users/lukas.innig/code/genai/cert3/datarobot-genai/.venv/lib/python3.10/site-packages/datarobotx/models/deploy.py#496\" target=\"_blank\"><span style=\"color: #7f7f7f; text-decoration-color: #7f7f7f\">496</span></a>\n",
       "</pre>\n"
      ],
      "text/plain": [
       "\u001b[2;36m                   \u001b[0m\u001b[2;36m \u001b[0m\u001b[34mINFO    \u001b[0m Installing additional dependencies\u001b[33m...\u001b[0m                                    \u001b]8;id=594541;file:///Users/lukas.innig/code/genai/cert3/datarobot-genai/.venv/lib/python3.10/site-packages/datarobotx/models/deploy.py\u001b\\\u001b[2mdeploy.py\u001b[0m\u001b]8;;\u001b\\\u001b[2m:\u001b[0m\u001b]8;id=621852;file:///Users/lukas.innig/code/genai/cert3/datarobot-genai/.venv/lib/python3.10/site-packages/datarobotx/models/deploy.py#496\u001b\\\u001b[2m496\u001b[0m\u001b]8;;\u001b\\\n"
      ]
     },
     "metadata": {},
     "output_type": "display_data"
    },
    {
     "data": {
      "text/html": [
       "<pre style=\"white-space:pre;overflow-x:auto;line-height:normal;font-family:Menlo,'DejaVu Sans Mono',consolas,'Courier New',monospace\"><span style=\"color: #7fbfbf; text-decoration-color: #7fbfbf\">[11/08/23 01:26:40] </span><span style=\"color: #000080; text-decoration-color: #000080\">INFO    </span> Creating and deploying model package<span style=\"color: #808000; text-decoration-color: #808000\">...</span>                                  <a href=\"file:///Users/lukas.innig/code/genai/cert3/datarobot-genai/.venv/lib/python3.10/site-packages/datarobotx/models/deploy.py\" target=\"_blank\"><span style=\"color: #7f7f7f; text-decoration-color: #7f7f7f\">deploy.py</span></a><span style=\"color: #7f7f7f; text-decoration-color: #7f7f7f\">:</span><a href=\"file:///Users/lukas.innig/code/genai/cert3/datarobot-genai/.venv/lib/python3.10/site-packages/datarobotx/models/deploy.py#499\" target=\"_blank\"><span style=\"color: #7f7f7f; text-decoration-color: #7f7f7f\">499</span></a>\n",
       "</pre>\n"
      ],
      "text/plain": [
       "\u001b[2;36m[11/08/23 01:26:40]\u001b[0m\u001b[2;36m \u001b[0m\u001b[34mINFO    \u001b[0m Creating and deploying model package\u001b[33m...\u001b[0m                                  \u001b]8;id=5936;file:///Users/lukas.innig/code/genai/cert3/datarobot-genai/.venv/lib/python3.10/site-packages/datarobotx/models/deploy.py\u001b\\\u001b[2mdeploy.py\u001b[0m\u001b]8;;\u001b\\\u001b[2m:\u001b[0m\u001b]8;id=889050;file:///Users/lukas.innig/code/genai/cert3/datarobot-genai/.venv/lib/python3.10/site-packages/datarobotx/models/deploy.py#499\u001b\\\u001b[2m499\u001b[0m\u001b]8;;\u001b\\\n"
      ]
     },
     "metadata": {},
     "output_type": "display_data"
    },
    {
     "data": {
      "text/html": [
       "<pre style=\"white-space:pre;overflow-x:auto;line-height:normal;font-family:Menlo,'DejaVu Sans Mono',consolas,'Courier New',monospace\"><span style=\"color: #7fbfbf; text-decoration-color: #7fbfbf\">[11/08/23 01:30:02] </span><span style=\"color: #000080; text-decoration-color: #000080\">INFO    </span> Created deployment                                                       <a href=\"file:///Users/lukas.innig/code/genai/cert3/datarobot-genai/.venv/lib/python3.10/site-packages/datarobotx/models/deploy.py\" target=\"_blank\"><span style=\"color: #7f7f7f; text-decoration-color: #7f7f7f\">deploy.py</span></a><span style=\"color: #7f7f7f; text-decoration-color: #7f7f7f\">:</span><a href=\"file:///Users/lukas.innig/code/genai/cert3/datarobot-genai/.venv/lib/python3.10/site-packages/datarobotx/models/deploy.py#538\" target=\"_blank\"><span style=\"color: #7f7f7f; text-decoration-color: #7f7f7f\">538</span></a>\n",
       "<span style=\"color: #7fbfbf; text-decoration-color: #7fbfbf\">                    </span>         <span style=\"font-weight: bold\">[</span>xenodochial-kalam<span style=\"font-weight: bold\">](</span><span style=\"color: #0000ff; text-decoration-color: #0000ff; text-decoration: underline\">https://staging.datarobot.com/deployments/654ae3d550</span> <span style=\"color: #7f7f7f; text-decoration-color: #7f7f7f\">             </span>\n",
       "<span style=\"color: #7fbfbf; text-decoration-color: #7fbfbf\">                    </span>         <span style=\"color: #0000ff; text-decoration-color: #0000ff; text-decoration: underline\">ce8dc577495d45/overview)</span>                                                 <span style=\"color: #7f7f7f; text-decoration-color: #7f7f7f\">             </span>\n",
       "</pre>\n"
      ],
      "text/plain": [
       "\u001b[2;36m[11/08/23 01:30:02]\u001b[0m\u001b[2;36m \u001b[0m\u001b[34mINFO    \u001b[0m Created deployment                                                       \u001b]8;id=680658;file:///Users/lukas.innig/code/genai/cert3/datarobot-genai/.venv/lib/python3.10/site-packages/datarobotx/models/deploy.py\u001b\\\u001b[2mdeploy.py\u001b[0m\u001b]8;;\u001b\\\u001b[2m:\u001b[0m\u001b]8;id=697836;file:///Users/lukas.innig/code/genai/cert3/datarobot-genai/.venv/lib/python3.10/site-packages/datarobotx/models/deploy.py#538\u001b\\\u001b[2m538\u001b[0m\u001b]8;;\u001b\\\n",
       "\u001b[2;36m                    \u001b[0m         \u001b[1m[\u001b[0mxenodochial-kalam\u001b[1m]\u001b[0m\u001b[1m(\u001b[0m\u001b[4;94mhttps://staging.datarobot.com/deployments/654ae3d550\u001b[0m \u001b[2m             \u001b[0m\n",
       "\u001b[2;36m                    \u001b[0m         \u001b[4;94mce8dc577495d45/overview\u001b[0m\u001b[4;94m)\u001b[0m                                                 \u001b[2m             \u001b[0m\n"
      ]
     },
     "metadata": {},
     "output_type": "display_data"
    },
    {
     "data": {
      "text/html": [
       "<pre style=\"white-space:pre;overflow-x:auto;line-height:normal;font-family:Menlo,'DejaVu Sans Mono',consolas,'Courier New',monospace\"><span style=\"color: #7fbfbf; text-decoration-color: #7fbfbf\">                    </span><span style=\"color: #000080; text-decoration-color: #000080\">INFO    </span> Custom model deployment complete                                         <a href=\"file:///Users/lukas.innig/code/genai/cert3/datarobot-genai/.venv/lib/python3.10/site-packages/datarobotx/models/deploy.py\" target=\"_blank\"><span style=\"color: #7f7f7f; text-decoration-color: #7f7f7f\">deploy.py</span></a><span style=\"color: #7f7f7f; text-decoration-color: #7f7f7f\">:</span><a href=\"file:///Users/lukas.innig/code/genai/cert3/datarobot-genai/.venv/lib/python3.10/site-packages/datarobotx/models/deploy.py#267\" target=\"_blank\"><span style=\"color: #7f7f7f; text-decoration-color: #7f7f7f\">267</span></a>\n",
       "</pre>\n"
      ],
      "text/plain": [
       "\u001b[2;36m                   \u001b[0m\u001b[2;36m \u001b[0m\u001b[34mINFO    \u001b[0m Custom model deployment complete                                         \u001b]8;id=305602;file:///Users/lukas.innig/code/genai/cert3/datarobot-genai/.venv/lib/python3.10/site-packages/datarobotx/models/deploy.py\u001b\\\u001b[2mdeploy.py\u001b[0m\u001b]8;;\u001b\\\u001b[2m:\u001b[0m\u001b]8;id=290980;file:///Users/lukas.innig/code/genai/cert3/datarobot-genai/.venv/lib/python3.10/site-packages/datarobotx/models/deploy.py#267\u001b\\\u001b[2m267\u001b[0m\u001b]8;;\u001b\\\n"
      ]
     },
     "metadata": {},
     "output_type": "display_data"
    }
   ],
   "source": [
    "deployment = drx.deploy(\n",
    "    \"custom.py\",\n",
    "    target_type=\"TextGeneration\",\n",
    "    target=\"resultText\",\n",
    "    environment_id=\"64c964448dd3f0c07f47d040\", \n",
    "    # hooks={\"load_model\": load_model, \"score\": score},\n",
    "    runtime_parameters=['cohere_api_token'],\n",
    "    extra_requirements=[\"cohere==4.27\",\n",
    "                        \"datarobot-drum==1.10.10\"]\n",
    ")\n",
    "        "
   ]
  },
  {
   "cell_type": "code",
   "execution_count": 42,
   "id": "7159dba0-2bae-428e-ae1e-8c3b6005638f",
   "metadata": {},
   "outputs": [],
   "source": [
    "import pandas as pd"
   ]
  },
  {
   "cell_type": "code",
   "execution_count": 44,
   "id": "b97d91a8-f2ec-4cb1-8fc0-afb1605d7ee7",
   "metadata": {},
   "outputs": [
    {
     "data": {
      "application/vnd.jupyter.widget-view+json": {
       "model_id": "6722f9ba81ff4e099f97ce0c20086411",
       "version_major": 2,
       "version_minor": 0
      },
      "text/plain": [
       "VBox()"
      ]
     },
     "metadata": {},
     "output_type": "display_data"
    },
    {
     "data": {
      "text/html": [
       "<pre style=\"white-space:pre;overflow-x:auto;line-height:normal;font-family:Menlo,'DejaVu Sans Mono',consolas,'Courier New',monospace\"><span style=\"color: #7fbfbf; text-decoration-color: #7fbfbf\">[11/08/23 01:34:48] </span><span style=\"color: #000080; text-decoration-color: #000080\">INFO    </span> Making predictions                                                   <a href=\"file:///Users/lukas.innig/code/genai/cert3/datarobot-genai/.venv/lib/python3.10/site-packages/datarobotx/models/deployment.py\" target=\"_blank\"><span style=\"color: #7f7f7f; text-decoration-color: #7f7f7f\">deployment.py</span></a><span style=\"color: #7f7f7f; text-decoration-color: #7f7f7f\">:</span><a href=\"file:///Users/lukas.innig/code/genai/cert3/datarobot-genai/.venv/lib/python3.10/site-packages/datarobotx/models/deployment.py#392\" target=\"_blank\"><span style=\"color: #7f7f7f; text-decoration-color: #7f7f7f\">392</span></a>\n",
       "</pre>\n"
      ],
      "text/plain": [
       "\u001b[2;36m[11/08/23 01:34:48]\u001b[0m\u001b[2;36m \u001b[0m\u001b[34mINFO    \u001b[0m Making predictions                                                   \u001b]8;id=461681;file:///Users/lukas.innig/code/genai/cert3/datarobot-genai/.venv/lib/python3.10/site-packages/datarobotx/models/deployment.py\u001b\\\u001b[2mdeployment.py\u001b[0m\u001b]8;;\u001b\\\u001b[2m:\u001b[0m\u001b]8;id=591951;file:///Users/lukas.innig/code/genai/cert3/datarobot-genai/.venv/lib/python3.10/site-packages/datarobotx/models/deployment.py#392\u001b\\\u001b[2m392\u001b[0m\u001b]8;;\u001b\\\n"
      ]
     },
     "metadata": {},
     "output_type": "display_data"
    },
    {
     "data": {
      "text/html": [
       "<pre style=\"white-space:pre;overflow-x:auto;line-height:normal;font-family:Menlo,'DejaVu Sans Mono',consolas,'Courier New',monospace\"><span style=\"color: #7fbfbf; text-decoration-color: #7fbfbf\">                    </span><span style=\"color: #000080; text-decoration-color: #000080\">INFO    </span> Making predictions with deployment                                   <a href=\"file:///Users/lukas.innig/code/genai/cert3/datarobot-genai/.venv/lib/python3.10/site-packages/datarobotx/models/deployment.py\" target=\"_blank\"><span style=\"color: #7f7f7f; text-decoration-color: #7f7f7f\">deployment.py</span></a><span style=\"color: #7f7f7f; text-decoration-color: #7f7f7f\">:</span><a href=\"file:///Users/lukas.innig/code/genai/cert3/datarobot-genai/.venv/lib/python3.10/site-packages/datarobotx/models/deployment.py#393\" target=\"_blank\"><span style=\"color: #7f7f7f; text-decoration-color: #7f7f7f\">393</span></a>\n",
       "<span style=\"color: #7fbfbf; text-decoration-color: #7fbfbf\">                    </span>         <span style=\"font-weight: bold\">[</span>xenodochial-kalam<span style=\"font-weight: bold\">](</span><span style=\"color: #0000ff; text-decoration-color: #0000ff; text-decoration: underline\">https://staging.datarobot.com/deployments/654ae3</span> <span style=\"color: #7f7f7f; text-decoration-color: #7f7f7f\">                 </span>\n",
       "<span style=\"color: #7fbfbf; text-decoration-color: #7fbfbf\">                    </span>         <span style=\"color: #0000ff; text-decoration-color: #0000ff; text-decoration: underline\">d550ce8dc577495d45/overview)</span>                                         <span style=\"color: #7f7f7f; text-decoration-color: #7f7f7f\">                 </span>\n",
       "</pre>\n"
      ],
      "text/plain": [
       "\u001b[2;36m                   \u001b[0m\u001b[2;36m \u001b[0m\u001b[34mINFO    \u001b[0m Making predictions with deployment                                   \u001b]8;id=716021;file:///Users/lukas.innig/code/genai/cert3/datarobot-genai/.venv/lib/python3.10/site-packages/datarobotx/models/deployment.py\u001b\\\u001b[2mdeployment.py\u001b[0m\u001b]8;;\u001b\\\u001b[2m:\u001b[0m\u001b]8;id=57661;file:///Users/lukas.innig/code/genai/cert3/datarobot-genai/.venv/lib/python3.10/site-packages/datarobotx/models/deployment.py#393\u001b\\\u001b[2m393\u001b[0m\u001b]8;;\u001b\\\n",
       "\u001b[2;36m                    \u001b[0m         \u001b[1m[\u001b[0mxenodochial-kalam\u001b[1m]\u001b[0m\u001b[1m(\u001b[0m\u001b[4;94mhttps://staging.datarobot.com/deployments/654ae3\u001b[0m \u001b[2m                 \u001b[0m\n",
       "\u001b[2;36m                    \u001b[0m         \u001b[4;94md550ce8dc577495d45/overview\u001b[0m\u001b[4;94m)\u001b[0m                                         \u001b[2m                 \u001b[0m\n"
      ]
     },
     "metadata": {},
     "output_type": "display_data"
    },
    {
     "data": {
      "text/html": [
       "<pre style=\"white-space:pre;overflow-x:auto;line-height:normal;font-family:Menlo,'DejaVu Sans Mono',consolas,'Courier New',monospace\"><span style=\"color: #7fbfbf; text-decoration-color: #7fbfbf\">                    </span><span style=\"color: #000080; text-decoration-color: #000080\">INFO    </span> Uploading dataset to be scored<span style=\"color: #808000; text-decoration-color: #808000\">...</span>                                   <a href=\"file:///Users/lukas.innig/code/genai/cert3/datarobot-genai/.venv/lib/python3.10/site-packages/datarobotx/client/deployments.py\" target=\"_blank\"><span style=\"color: #7f7f7f; text-decoration-color: #7f7f7f\">deployments.py</span></a><span style=\"color: #7f7f7f; text-decoration-color: #7f7f7f\">:</span><a href=\"file:///Users/lukas.innig/code/genai/cert3/datarobot-genai/.venv/lib/python3.10/site-packages/datarobotx/client/deployments.py#328\" target=\"_blank\"><span style=\"color: #7f7f7f; text-decoration-color: #7f7f7f\">328</span></a>\n",
       "</pre>\n"
      ],
      "text/plain": [
       "\u001b[2;36m                   \u001b[0m\u001b[2;36m \u001b[0m\u001b[34mINFO    \u001b[0m Uploading dataset to be scored\u001b[33m...\u001b[0m                                   \u001b]8;id=911641;file:///Users/lukas.innig/code/genai/cert3/datarobot-genai/.venv/lib/python3.10/site-packages/datarobotx/client/deployments.py\u001b\\\u001b[2mdeployments.py\u001b[0m\u001b]8;;\u001b\\\u001b[2m:\u001b[0m\u001b]8;id=414232;file:///Users/lukas.innig/code/genai/cert3/datarobot-genai/.venv/lib/python3.10/site-packages/datarobotx/client/deployments.py#328\u001b\\\u001b[2m328\u001b[0m\u001b]8;;\u001b\\\n"
      ]
     },
     "metadata": {},
     "output_type": "display_data"
    },
    {
     "data": {
      "text/html": [
       "<pre style=\"white-space:pre;overflow-x:auto;line-height:normal;font-family:Menlo,'DejaVu Sans Mono',consolas,'Courier New',monospace\"><span style=\"color: #7fbfbf; text-decoration-color: #7fbfbf\">                    </span><span style=\"color: #000080; text-decoration-color: #000080\">INFO    </span> Scoring<span style=\"color: #808000; text-decoration-color: #808000\">...</span>                                                                <a href=\"file:///Users/lukas.innig/code/genai/cert3/datarobot-genai/.venv/lib/python3.10/site-packages/datarobotx/common/utils.py\" target=\"_blank\"><span style=\"color: #7f7f7f; text-decoration-color: #7f7f7f\">utils.py</span></a><span style=\"color: #7f7f7f; text-decoration-color: #7f7f7f\">:</span><a href=\"file:///Users/lukas.innig/code/genai/cert3/datarobot-genai/.venv/lib/python3.10/site-packages/datarobotx/common/utils.py#772\" target=\"_blank\"><span style=\"color: #7f7f7f; text-decoration-color: #7f7f7f\">772</span></a>\n",
       "</pre>\n"
      ],
      "text/plain": [
       "\u001b[2;36m                   \u001b[0m\u001b[2;36m \u001b[0m\u001b[34mINFO    \u001b[0m Scoring\u001b[33m...\u001b[0m                                                                \u001b]8;id=918521;file:///Users/lukas.innig/code/genai/cert3/datarobot-genai/.venv/lib/python3.10/site-packages/datarobotx/common/utils.py\u001b\\\u001b[2mutils.py\u001b[0m\u001b]8;;\u001b\\\u001b[2m:\u001b[0m\u001b]8;id=634048;file:///Users/lukas.innig/code/genai/cert3/datarobot-genai/.venv/lib/python3.10/site-packages/datarobotx/common/utils.py#772\u001b\\\u001b[2m772\u001b[0m\u001b]8;;\u001b\\\n"
      ]
     },
     "metadata": {},
     "output_type": "display_data"
    },
    {
     "data": {
      "text/html": [
       "<pre style=\"white-space:pre;overflow-x:auto;line-height:normal;font-family:Menlo,'DejaVu Sans Mono',consolas,'Courier New',monospace\"><span style=\"color: #7fbfbf; text-decoration-color: #7fbfbf\">[11/08/23 01:34:52] </span><span style=\"color: #000080; text-decoration-color: #000080\">INFO    </span> Predictions complete                                                 <a href=\"file:///Users/lukas.innig/code/genai/cert3/datarobot-genai/.venv/lib/python3.10/site-packages/datarobotx/models/deployment.py\" target=\"_blank\"><span style=\"color: #7f7f7f; text-decoration-color: #7f7f7f\">deployment.py</span></a><span style=\"color: #7f7f7f; text-decoration-color: #7f7f7f\">:</span><a href=\"file:///Users/lukas.innig/code/genai/cert3/datarobot-genai/.venv/lib/python3.10/site-packages/datarobotx/models/deployment.py#314\" target=\"_blank\"><span style=\"color: #7f7f7f; text-decoration-color: #7f7f7f\">314</span></a>\n",
       "</pre>\n"
      ],
      "text/plain": [
       "\u001b[2;36m[11/08/23 01:34:52]\u001b[0m\u001b[2;36m \u001b[0m\u001b[34mINFO    \u001b[0m Predictions complete                                                 \u001b]8;id=373934;file:///Users/lukas.innig/code/genai/cert3/datarobot-genai/.venv/lib/python3.10/site-packages/datarobotx/models/deployment.py\u001b\\\u001b[2mdeployment.py\u001b[0m\u001b]8;;\u001b\\\u001b[2m:\u001b[0m\u001b]8;id=865219;file:///Users/lukas.innig/code/genai/cert3/datarobot-genai/.venv/lib/python3.10/site-packages/datarobotx/models/deployment.py#314\u001b\\\u001b[2m314\u001b[0m\u001b]8;;\u001b\\\n"
      ]
     },
     "metadata": {},
     "output_type": "display_data"
    }
   ],
   "source": [
    "inp = {\n",
    "    \"context\": [\n",
    "       \"\"\n",
    "    ],\n",
    "    \"promptText\": [\"Why is DataRobot best used in conjunction with kedro?\"],\n",
    "}\n",
    "prediction = deployment.predict(pd.DataFrame(inp))"
   ]
  },
  {
   "cell_type": "code",
   "execution_count": 47,
   "id": "c6faa0ff-20ae-47d5-9982-549a45ebbcd3",
   "metadata": {},
   "outputs": [
    {
     "data": {
      "text/html": [
       "<pre style=\"white-space:pre;overflow-x:auto;line-height:normal;font-family:Menlo,'DejaVu Sans Mono',consolas,'Courier New',monospace\"></pre>\n"
      ],
      "text/plain": []
     },
     "metadata": {},
     "output_type": "display_data"
    },
    {
     "data": {
      "text/plain": [
       "\n",
       "\u001b[1;35marray\u001b[0m\u001b[1m(\u001b[0m\u001b[1m[\u001b[0m\u001b[32m' DataRobot is best integrated with kedro to spur model creation through its automation capabilities, enabling developers to build more efficient models faster than native kedro libraries. In this case, DataRobot will act as a great source of enrichment for your machine learning projects, building a more robust ML pipeline with better predictive model outcomes. '\u001b[0m\u001b[1m]\u001b[0m,\n",
       "      \u001b[33mdtype\u001b[0m=\u001b[35mobject\u001b[0m\u001b[1m)\u001b[0m"
      ]
     },
     "execution_count": 47,
     "metadata": {},
     "output_type": "execute_result"
    }
   ],
   "source": [
    "prediction[\"prediction\"].values"
   ]
  },
  {
   "cell_type": "code",
   "execution_count": 4,
   "id": "9ae73dd0-df3a-421e-9a56-db0de8252deb",
   "metadata": {},
   "outputs": [
    {
     "data": {
      "text/html": [
       "<pre style=\"white-space:pre;overflow-x:auto;line-height:normal;font-family:Menlo,'DejaVu Sans Mono',consolas,'Courier New',monospace\"></pre>\n"
      ],
      "text/plain": []
     },
     "metadata": {},
     "output_type": "display_data"
    },
    {
     "data": {
      "text/plain": [
       "\u001b[32m'3.2.1'\u001b[0m"
      ]
     },
     "execution_count": 4,
     "metadata": {},
     "output_type": "execute_result"
    }
   ],
   "source": [
    "dr.__version__"
   ]
  },
  {
   "cell_type": "code",
   "execution_count": 3,
   "id": "9b852ed8-3d1f-4273-ac27-ecfb770fb3e9",
   "metadata": {},
   "outputs": [
    {
     "data": {
      "text/html": [
       "<pre style=\"white-space:pre;overflow-x:auto;line-height:normal;font-family:Menlo,'DejaVu Sans Mono',consolas,'Courier New',monospace\"><span style=\"color: #800000; text-decoration-color: #800000\">╭─────────────────────────────── </span><span style=\"color: #800000; text-decoration-color: #800000; font-weight: bold\">Traceback </span><span style=\"color: #bf7f7f; text-decoration-color: #bf7f7f; font-weight: bold\">(most recent call last)</span><span style=\"color: #800000; text-decoration-color: #800000\"> ────────────────────────────────╮</span>\n",
       "<span style=\"color: #800000; text-decoration-color: #800000\">│</span> in <span style=\"color: #00ff00; text-decoration-color: #00ff00\">&lt;module&gt;</span>:<span style=\"color: #0000ff; text-decoration-color: #0000ff\">1</span>                                                                                    <span style=\"color: #800000; text-decoration-color: #800000\">│</span>\n",
       "<span style=\"color: #800000; text-decoration-color: #800000\">│</span>                                                                                                  <span style=\"color: #800000; text-decoration-color: #800000\">│</span>\n",
       "<span style=\"color: #800000; text-decoration-color: #800000\">│</span> <span style=\"color: #800000; text-decoration-color: #800000\">❱ </span>1 custom_model = dr.CustomInferenceModel.create(                                               <span style=\"color: #800000; text-decoration-color: #800000\">│</span>\n",
       "<span style=\"color: #800000; text-decoration-color: #800000\">│</span>   <span style=\"color: #7f7f7f; text-decoration-color: #7f7f7f\">2 </span><span style=\"color: #7f7f7f; text-decoration-color: #7f7f7f\">│   </span>name=<span style=\"color: #808000; text-decoration-color: #808000\">\"LLM test\"</span>,target_type=<span style=\"color: #808000; text-decoration-color: #808000\">\"TextGeneration\"</span>)                                            <span style=\"color: #800000; text-decoration-color: #800000\">│</span>\n",
       "<span style=\"color: #800000; text-decoration-color: #800000\">│</span>   <span style=\"color: #7f7f7f; text-decoration-color: #7f7f7f\">3 </span>                                                                                             <span style=\"color: #800000; text-decoration-color: #800000\">│</span>\n",
       "<span style=\"color: #800000; text-decoration-color: #800000\">│</span>   <span style=\"color: #7f7f7f; text-decoration-color: #7f7f7f\">4 </span>                                                                                             <span style=\"color: #800000; text-decoration-color: #800000\">│</span>\n",
       "<span style=\"color: #800000; text-decoration-color: #800000\">│</span>                                                                                                  <span style=\"color: #800000; text-decoration-color: #800000\">│</span>\n",
       "<span style=\"color: #800000; text-decoration-color: #800000\">│</span> <span style=\"color: #bfbf7f; text-decoration-color: #bfbf7f\">/Users/lukas.innig/code/genai/cert3/datarobot-genai/.venv/lib/python3.11/site-packages/datarobot</span> <span style=\"color: #800000; text-decoration-color: #800000\">│</span>\n",
       "<span style=\"color: #800000; text-decoration-color: #800000\">│</span> <span style=\"color: #bfbf7f; text-decoration-color: #bfbf7f\">/models/</span><span style=\"color: #808000; text-decoration-color: #808000; font-weight: bold\">custom_model.py</span>:<span style=\"color: #0000ff; text-decoration-color: #0000ff\">678</span> in <span style=\"color: #00ff00; text-decoration-color: #00ff00\">create</span>                                                            <span style=\"color: #800000; text-decoration-color: #800000\">│</span>\n",
       "<span style=\"color: #800000; text-decoration-color: #800000\">│</span>                                                                                                  <span style=\"color: #800000; text-decoration-color: #800000\">│</span>\n",
       "<span style=\"color: #800000; text-decoration-color: #800000\">│</span>   <span style=\"color: #7f7f7f; text-decoration-color: #7f7f7f\">675 </span><span style=\"color: #7f7f7f; text-decoration-color: #7f7f7f\">│   │   │   </span><span style=\"color: #0000ff; text-decoration-color: #0000ff\">with</span> <span style=\"color: #00ffff; text-decoration-color: #00ffff\">open</span>(class_labels_file) <span style=\"color: #0000ff; text-decoration-color: #0000ff\">as</span> f:  <span style=\"color: #7f7f7f; text-decoration-color: #7f7f7f\"># pylint: disable=unspecified-encoding</span>     <span style=\"color: #800000; text-decoration-color: #800000\">│</span>\n",
       "<span style=\"color: #800000; text-decoration-color: #800000\">│</span>   <span style=\"color: #7f7f7f; text-decoration-color: #7f7f7f\">676 </span><span style=\"color: #7f7f7f; text-decoration-color: #7f7f7f\">│   │   │   │   </span>class_labels = [label <span style=\"color: #0000ff; text-decoration-color: #0000ff\">for</span> label <span style=\"color: #ff00ff; text-decoration-color: #ff00ff\">in</span> f.read().split(<span style=\"color: #808000; text-decoration-color: #808000\">\"\\n\"</span>) <span style=\"color: #0000ff; text-decoration-color: #0000ff\">if</span> label]          <span style=\"color: #800000; text-decoration-color: #800000\">│</span>\n",
       "<span style=\"color: #800000; text-decoration-color: #800000\">│</span>   <span style=\"color: #7f7f7f; text-decoration-color: #7f7f7f\">677 </span><span style=\"color: #7f7f7f; text-decoration-color: #7f7f7f\">│   │   </span>                                                                                   <span style=\"color: #800000; text-decoration-color: #800000\">│</span>\n",
       "<span style=\"color: #800000; text-decoration-color: #800000\">│</span> <span style=\"color: #800000; text-decoration-color: #800000\">❱ </span>678 <span style=\"color: #7f7f7f; text-decoration-color: #7f7f7f\">│   │   </span><span style=\"color: #0000ff; text-decoration-color: #0000ff\">return</span> <span style=\"color: #00ffff; text-decoration-color: #00ffff\">super</span>().create(                                                             <span style=\"color: #800000; text-decoration-color: #800000\">│</span>\n",
       "<span style=\"color: #800000; text-decoration-color: #800000\">│</span>   <span style=\"color: #7f7f7f; text-decoration-color: #7f7f7f\">679 </span><span style=\"color: #7f7f7f; text-decoration-color: #7f7f7f\">│   │   │   </span>name,                                                                          <span style=\"color: #800000; text-decoration-color: #800000\">│</span>\n",
       "<span style=\"color: #800000; text-decoration-color: #800000\">│</span>   <span style=\"color: #7f7f7f; text-decoration-color: #7f7f7f\">680 </span><span style=\"color: #7f7f7f; text-decoration-color: #7f7f7f\">│   │   │   </span>target_type,                                                                   <span style=\"color: #800000; text-decoration-color: #800000\">│</span>\n",
       "<span style=\"color: #800000; text-decoration-color: #800000\">│</span>   <span style=\"color: #7f7f7f; text-decoration-color: #7f7f7f\">681 </span><span style=\"color: #7f7f7f; text-decoration-color: #7f7f7f\">│   │   │   </span>description,                                                                   <span style=\"color: #800000; text-decoration-color: #800000\">│</span>\n",
       "<span style=\"color: #800000; text-decoration-color: #800000\">│</span>                                                                                                  <span style=\"color: #800000; text-decoration-color: #800000\">│</span>\n",
       "<span style=\"color: #800000; text-decoration-color: #800000\">│</span> <span style=\"color: #bfbf7f; text-decoration-color: #bfbf7f\">/Users/lukas.innig/code/genai/cert3/datarobot-genai/.venv/lib/python3.11/site-packages/datarobot</span> <span style=\"color: #800000; text-decoration-color: #800000\">│</span>\n",
       "<span style=\"color: #800000; text-decoration-color: #800000\">│</span> <span style=\"color: #bfbf7f; text-decoration-color: #bfbf7f\">/models/</span><span style=\"color: #808000; text-decoration-color: #808000; font-weight: bold\">custom_model.py</span>:<span style=\"color: #0000ff; text-decoration-color: #0000ff\">267</span> in <span style=\"color: #00ff00; text-decoration-color: #00ff00\">create</span>                                                            <span style=\"color: #800000; text-decoration-color: #800000\">│</span>\n",
       "<span style=\"color: #800000; text-decoration-color: #800000\">│</span>                                                                                                  <span style=\"color: #800000; text-decoration-color: #800000\">│</span>\n",
       "<span style=\"color: #800000; text-decoration-color: #800000\">│</span>   <span style=\"color: #7f7f7f; text-decoration-color: #7f7f7f\">264 </span><span style=\"color: #7f7f7f; text-decoration-color: #7f7f7f\">│   │   </span><span style=\"color: #0000ff; text-decoration-color: #0000ff\">elif</span> target_type == CUSTOM_MODEL_TARGET_TYPE.REGRESSION:                           <span style=\"color: #800000; text-decoration-color: #800000\">│</span>\n",
       "<span style=\"color: #800000; text-decoration-color: #800000\">│</span>   <span style=\"color: #7f7f7f; text-decoration-color: #7f7f7f\">265 </span><span style=\"color: #7f7f7f; text-decoration-color: #7f7f7f\">│   │   │   </span>payload[<span style=\"color: #808000; text-decoration-color: #808000\">\"supports_regression\"</span>] = <span style=\"color: #0000ff; text-decoration-color: #0000ff\">True</span>                                          <span style=\"color: #800000; text-decoration-color: #800000\">│</span>\n",
       "<span style=\"color: #800000; text-decoration-color: #800000\">│</span>   <span style=\"color: #7f7f7f; text-decoration-color: #7f7f7f\">266 </span><span style=\"color: #7f7f7f; text-decoration-color: #7f7f7f\">│   │   </span><span style=\"color: #0000ff; text-decoration-color: #0000ff\">elif</span> target_type <span style=\"color: #ff00ff; text-decoration-color: #ff00ff\">not</span> <span style=\"color: #ff00ff; text-decoration-color: #ff00ff\">in</span> CUSTOM_MODEL_TARGET_TYPE.ALL:                              <span style=\"color: #800000; text-decoration-color: #800000\">│</span>\n",
       "<span style=\"color: #800000; text-decoration-color: #800000\">│</span> <span style=\"color: #800000; text-decoration-color: #800000\">❱ </span>267 <span style=\"color: #7f7f7f; text-decoration-color: #7f7f7f\">│   │   │   </span><span style=\"color: #0000ff; text-decoration-color: #0000ff\">raise</span> ClientError(                                                             <span style=\"color: #800000; text-decoration-color: #800000\">│</span>\n",
       "<span style=\"color: #800000; text-decoration-color: #800000\">│</span>   <span style=\"color: #7f7f7f; text-decoration-color: #7f7f7f\">268 </span><span style=\"color: #7f7f7f; text-decoration-color: #7f7f7f\">│   │   │   │   </span><span style=\"color: #808000; text-decoration-color: #808000\">\"Unsupported target_type. target_type must be in  {}.\"</span>.format(             <span style=\"color: #800000; text-decoration-color: #800000\">│</span>\n",
       "<span style=\"color: #800000; text-decoration-color: #800000\">│</span>   <span style=\"color: #7f7f7f; text-decoration-color: #7f7f7f\">269 </span><span style=\"color: #7f7f7f; text-decoration-color: #7f7f7f\">│   │   │   │   │   </span>CUSTOM_MODEL_TARGET_TYPE.ALL                                           <span style=\"color: #800000; text-decoration-color: #800000\">│</span>\n",
       "<span style=\"color: #800000; text-decoration-color: #800000\">│</span>   <span style=\"color: #7f7f7f; text-decoration-color: #7f7f7f\">270 </span><span style=\"color: #7f7f7f; text-decoration-color: #7f7f7f\">│   │   │   │   </span>),                                                                         <span style=\"color: #800000; text-decoration-color: #800000\">│</span>\n",
       "<span style=\"color: #800000; text-decoration-color: #800000\">╰──────────────────────────────────────────────────────────────────────────────────────────────────╯</span>\n",
       "<span style=\"color: #ff0000; text-decoration-color: #ff0000; font-weight: bold\">ClientError: </span>Unsupported target_type. target_type must be in  <span style=\"font-weight: bold\">[</span><span style=\"color: #008000; text-decoration-color: #008000\">'Binary'</span>, <span style=\"color: #008000; text-decoration-color: #008000\">'Anomaly'</span>, <span style=\"color: #008000; text-decoration-color: #008000\">'Regression'</span>, <span style=\"color: #008000; text-decoration-color: #008000\">'Multiclass'</span>, \n",
       "<span style=\"color: #008000; text-decoration-color: #008000\">'Unstructured'</span><span style=\"font-weight: bold\">]</span>.\n",
       "</pre>\n"
      ],
      "text/plain": [
       "\u001b[31m╭─\u001b[0m\u001b[31m──────────────────────────────\u001b[0m\u001b[31m \u001b[0m\u001b[1;31mTraceback \u001b[0m\u001b[1;2;31m(most recent call last)\u001b[0m\u001b[31m \u001b[0m\u001b[31m───────────────────────────────\u001b[0m\u001b[31m─╮\u001b[0m\n",
       "\u001b[31m│\u001b[0m in \u001b[92m<module>\u001b[0m:\u001b[94m1\u001b[0m                                                                                    \u001b[31m│\u001b[0m\n",
       "\u001b[31m│\u001b[0m                                                                                                  \u001b[31m│\u001b[0m\n",
       "\u001b[31m│\u001b[0m \u001b[31m❱ \u001b[0m1 custom_model = dr.CustomInferenceModel.create(                                               \u001b[31m│\u001b[0m\n",
       "\u001b[31m│\u001b[0m   \u001b[2m2 \u001b[0m\u001b[2m│   \u001b[0mname=\u001b[33m\"\u001b[0m\u001b[33mLLM test\u001b[0m\u001b[33m\"\u001b[0m,target_type=\u001b[33m\"\u001b[0m\u001b[33mTextGeneration\u001b[0m\u001b[33m\"\u001b[0m)                                            \u001b[31m│\u001b[0m\n",
       "\u001b[31m│\u001b[0m   \u001b[2m3 \u001b[0m                                                                                             \u001b[31m│\u001b[0m\n",
       "\u001b[31m│\u001b[0m   \u001b[2m4 \u001b[0m                                                                                             \u001b[31m│\u001b[0m\n",
       "\u001b[31m│\u001b[0m                                                                                                  \u001b[31m│\u001b[0m\n",
       "\u001b[31m│\u001b[0m \u001b[2;33m/Users/lukas.innig/code/genai/cert3/datarobot-genai/.venv/lib/python3.11/site-packages/datarobot\u001b[0m \u001b[31m│\u001b[0m\n",
       "\u001b[31m│\u001b[0m \u001b[2;33m/models/\u001b[0m\u001b[1;33mcustom_model.py\u001b[0m:\u001b[94m678\u001b[0m in \u001b[92mcreate\u001b[0m                                                            \u001b[31m│\u001b[0m\n",
       "\u001b[31m│\u001b[0m                                                                                                  \u001b[31m│\u001b[0m\n",
       "\u001b[31m│\u001b[0m   \u001b[2m675 \u001b[0m\u001b[2m│   │   │   \u001b[0m\u001b[94mwith\u001b[0m \u001b[96mopen\u001b[0m(class_labels_file) \u001b[94mas\u001b[0m f:  \u001b[2m# pylint: disable=unspecified-encoding\u001b[0m     \u001b[31m│\u001b[0m\n",
       "\u001b[31m│\u001b[0m   \u001b[2m676 \u001b[0m\u001b[2m│   │   │   │   \u001b[0mclass_labels = [label \u001b[94mfor\u001b[0m label \u001b[95min\u001b[0m f.read().split(\u001b[33m\"\u001b[0m\u001b[33m\\n\u001b[0m\u001b[33m\"\u001b[0m) \u001b[94mif\u001b[0m label]          \u001b[31m│\u001b[0m\n",
       "\u001b[31m│\u001b[0m   \u001b[2m677 \u001b[0m\u001b[2m│   │   \u001b[0m                                                                                   \u001b[31m│\u001b[0m\n",
       "\u001b[31m│\u001b[0m \u001b[31m❱ \u001b[0m678 \u001b[2m│   │   \u001b[0m\u001b[94mreturn\u001b[0m \u001b[96msuper\u001b[0m().create(                                                             \u001b[31m│\u001b[0m\n",
       "\u001b[31m│\u001b[0m   \u001b[2m679 \u001b[0m\u001b[2m│   │   │   \u001b[0mname,                                                                          \u001b[31m│\u001b[0m\n",
       "\u001b[31m│\u001b[0m   \u001b[2m680 \u001b[0m\u001b[2m│   │   │   \u001b[0mtarget_type,                                                                   \u001b[31m│\u001b[0m\n",
       "\u001b[31m│\u001b[0m   \u001b[2m681 \u001b[0m\u001b[2m│   │   │   \u001b[0mdescription,                                                                   \u001b[31m│\u001b[0m\n",
       "\u001b[31m│\u001b[0m                                                                                                  \u001b[31m│\u001b[0m\n",
       "\u001b[31m│\u001b[0m \u001b[2;33m/Users/lukas.innig/code/genai/cert3/datarobot-genai/.venv/lib/python3.11/site-packages/datarobot\u001b[0m \u001b[31m│\u001b[0m\n",
       "\u001b[31m│\u001b[0m \u001b[2;33m/models/\u001b[0m\u001b[1;33mcustom_model.py\u001b[0m:\u001b[94m267\u001b[0m in \u001b[92mcreate\u001b[0m                                                            \u001b[31m│\u001b[0m\n",
       "\u001b[31m│\u001b[0m                                                                                                  \u001b[31m│\u001b[0m\n",
       "\u001b[31m│\u001b[0m   \u001b[2m264 \u001b[0m\u001b[2m│   │   \u001b[0m\u001b[94melif\u001b[0m target_type == CUSTOM_MODEL_TARGET_TYPE.REGRESSION:                           \u001b[31m│\u001b[0m\n",
       "\u001b[31m│\u001b[0m   \u001b[2m265 \u001b[0m\u001b[2m│   │   │   \u001b[0mpayload[\u001b[33m\"\u001b[0m\u001b[33msupports_regression\u001b[0m\u001b[33m\"\u001b[0m] = \u001b[94mTrue\u001b[0m                                          \u001b[31m│\u001b[0m\n",
       "\u001b[31m│\u001b[0m   \u001b[2m266 \u001b[0m\u001b[2m│   │   \u001b[0m\u001b[94melif\u001b[0m target_type \u001b[95mnot\u001b[0m \u001b[95min\u001b[0m CUSTOM_MODEL_TARGET_TYPE.ALL:                              \u001b[31m│\u001b[0m\n",
       "\u001b[31m│\u001b[0m \u001b[31m❱ \u001b[0m267 \u001b[2m│   │   │   \u001b[0m\u001b[94mraise\u001b[0m ClientError(                                                             \u001b[31m│\u001b[0m\n",
       "\u001b[31m│\u001b[0m   \u001b[2m268 \u001b[0m\u001b[2m│   │   │   │   \u001b[0m\u001b[33m\"\u001b[0m\u001b[33mUnsupported target_type. target_type must be in  \u001b[0m\u001b[33m{}\u001b[0m\u001b[33m.\u001b[0m\u001b[33m\"\u001b[0m.format(             \u001b[31m│\u001b[0m\n",
       "\u001b[31m│\u001b[0m   \u001b[2m269 \u001b[0m\u001b[2m│   │   │   │   │   \u001b[0mCUSTOM_MODEL_TARGET_TYPE.ALL                                           \u001b[31m│\u001b[0m\n",
       "\u001b[31m│\u001b[0m   \u001b[2m270 \u001b[0m\u001b[2m│   │   │   │   \u001b[0m),                                                                         \u001b[31m│\u001b[0m\n",
       "\u001b[31m╰──────────────────────────────────────────────────────────────────────────────────────────────────╯\u001b[0m\n",
       "\u001b[1;91mClientError: \u001b[0mUnsupported target_type. target_type must be in  \u001b[1m[\u001b[0m\u001b[32m'Binary'\u001b[0m, \u001b[32m'Anomaly'\u001b[0m, \u001b[32m'Regression'\u001b[0m, \u001b[32m'Multiclass'\u001b[0m, \n",
       "\u001b[32m'Unstructured'\u001b[0m\u001b[1m]\u001b[0m.\n"
      ]
     },
     "metadata": {},
     "output_type": "display_data"
    }
   ],
   "source": [
    "custom_model = dr.CustomInferenceModel.create(\n",
    "    name=\"LLM test\",target_type=\"TextGeneration\")\n",
    "    "
   ]
  },
  {
   "cell_type": "code",
   "execution_count": 61,
   "id": "36ba3572-4da4-4546-88e3-3feb5deaf051",
   "metadata": {},
   "outputs": [
    {
     "data": {
      "text/html": [
       "<pre style=\"white-space:pre;overflow-x:auto;line-height:normal;font-family:Menlo,'DejaVu Sans Mono',consolas,'Courier New',monospace\"></pre>\n"
      ],
      "text/plain": []
     },
     "metadata": {},
     "output_type": "display_data"
    },
    {
     "data": {
      "text/plain": [
       "\n",
       "\u001b[1m[\u001b[0m\n",
       "    \u001b[32m'use_case'\u001b[0m,\n",
       "    \u001b[32m'playground'\u001b[0m,\n",
       "    \u001b[32m'pre_baked_llm_blueprint'\u001b[0m,\n",
       "    \u001b[32m'pre_baked_response'\u001b[0m,\n",
       "    \u001b[32m'parameters'\u001b[0m,\n",
       "    \u001b[32m'params:genai_api_root'\u001b[0m,\n",
       "    \u001b[32m'params:pre_baked_llm_blueprint'\u001b[0m,\n",
       "    \u001b[32m'params:pre_baked_llm_blueprint.name'\u001b[0m,\n",
       "    \u001b[32m'params:pre_baked_llm_blueprint.llmId'\u001b[0m,\n",
       "    \u001b[32m'params:prompt_text'\u001b[0m\n",
       "\u001b[1m]\u001b[0m"
      ]
     },
     "execution_count": 61,
     "metadata": {},
     "output_type": "execute_result"
    }
   ],
   "source": [
    "catalog.list()"
   ]
  },
  {
   "cell_type": "code",
   "execution_count": 65,
   "id": "6caa162c-1ebd-4512-ac3e-417526b8134c",
   "metadata": {},
   "outputs": [
    {
     "data": {
      "text/html": [
       "<pre style=\"white-space:pre;overflow-x:auto;line-height:normal;font-family:Menlo,'DejaVu Sans Mono',consolas,'Courier New',monospace\"><span style=\"color: #7fbfbf; text-decoration-color: #7fbfbf\">[11/08/23 02:16:55] </span><span style=\"color: #000080; text-decoration-color: #000080\">INFO    </span> Loading data from <span style=\"color: #008000; text-decoration-color: #008000\">'playground'</span> <span style=\"font-weight: bold\">(</span>YAMLDataset<span style=\"font-weight: bold\">)</span><span style=\"color: #808000; text-decoration-color: #808000\">...</span>                    <a href=\"file:///Users/lukas.innig/code/genai/cert3/datarobot-genai/.venv/lib/python3.10/site-packages/kedro/io/data_catalog.py\" target=\"_blank\"><span style=\"color: #7f7f7f; text-decoration-color: #7f7f7f\">data_catalog.py</span></a><span style=\"color: #7f7f7f; text-decoration-color: #7f7f7f\">:</span><a href=\"file:///Users/lukas.innig/code/genai/cert3/datarobot-genai/.venv/lib/python3.10/site-packages/kedro/io/data_catalog.py#502\" target=\"_blank\"><span style=\"color: #7f7f7f; text-decoration-color: #7f7f7f\">502</span></a>\n",
       "</pre>\n"
      ],
      "text/plain": [
       "\u001b[2;36m[11/08/23 02:16:55]\u001b[0m\u001b[2;36m \u001b[0m\u001b[34mINFO    \u001b[0m Loading data from \u001b[32m'playground'\u001b[0m \u001b[1m(\u001b[0mYAMLDataset\u001b[1m)\u001b[0m\u001b[33m...\u001b[0m                    \u001b]8;id=880819;file:///Users/lukas.innig/code/genai/cert3/datarobot-genai/.venv/lib/python3.10/site-packages/kedro/io/data_catalog.py\u001b\\\u001b[2mdata_catalog.py\u001b[0m\u001b]8;;\u001b\\\u001b[2m:\u001b[0m\u001b]8;id=252199;file:///Users/lukas.innig/code/genai/cert3/datarobot-genai/.venv/lib/python3.10/site-packages/kedro/io/data_catalog.py#502\u001b\\\u001b[2m502\u001b[0m\u001b]8;;\u001b\\\n"
      ]
     },
     "metadata": {},
     "output_type": "display_data"
    }
   ],
   "source": [
    "playground = catalog.load(\"playground\")"
   ]
  },
  {
   "cell_type": "code",
   "execution_count": 66,
   "id": "f75c8bce-8ae9-4314-8e29-5020e601f634",
   "metadata": {},
   "outputs": [
    {
     "data": {
      "text/html": [
       "<pre style=\"white-space:pre;overflow-x:auto;line-height:normal;font-family:Menlo,'DejaVu Sans Mono',consolas,'Courier New',monospace\"><span style=\"color: #7fbfbf; text-decoration-color: #7fbfbf\">                    </span><span style=\"color: #000080; text-decoration-color: #000080\">INFO    </span> Loading data from <span style=\"color: #008000; text-decoration-color: #008000\">'validation_id'</span> <span style=\"font-weight: bold\">(</span>YAMLDataset<span style=\"font-weight: bold\">)</span><span style=\"color: #808000; text-decoration-color: #808000\">...</span>                 <a href=\"file:///Users/lukas.innig/code/genai/cert3/datarobot-genai/.venv/lib/python3.10/site-packages/kedro/io/data_catalog.py\" target=\"_blank\"><span style=\"color: #7f7f7f; text-decoration-color: #7f7f7f\">data_catalog.py</span></a><span style=\"color: #7f7f7f; text-decoration-color: #7f7f7f\">:</span><a href=\"file:///Users/lukas.innig/code/genai/cert3/datarobot-genai/.venv/lib/python3.10/site-packages/kedro/io/data_catalog.py#502\" target=\"_blank\"><span style=\"color: #7f7f7f; text-decoration-color: #7f7f7f\">502</span></a>\n",
       "</pre>\n"
      ],
      "text/plain": [
       "\u001b[2;36m                   \u001b[0m\u001b[2;36m \u001b[0m\u001b[34mINFO    \u001b[0m Loading data from \u001b[32m'validation_id'\u001b[0m \u001b[1m(\u001b[0mYAMLDataset\u001b[1m)\u001b[0m\u001b[33m...\u001b[0m                 \u001b]8;id=52611;file:///Users/lukas.innig/code/genai/cert3/datarobot-genai/.venv/lib/python3.10/site-packages/kedro/io/data_catalog.py\u001b\\\u001b[2mdata_catalog.py\u001b[0m\u001b]8;;\u001b\\\u001b[2m:\u001b[0m\u001b]8;id=329178;file:///Users/lukas.innig/code/genai/cert3/datarobot-genai/.venv/lib/python3.10/site-packages/kedro/io/data_catalog.py#502\u001b\\\u001b[2m502\u001b[0m\u001b]8;;\u001b\\\n"
      ]
     },
     "metadata": {},
     "output_type": "display_data"
    }
   ],
   "source": [
    "validation_id = catalog.load(\"validation_id\")"
   ]
  },
  {
   "cell_type": "code",
   "execution_count": 67,
   "id": "eee617bd-39aa-4306-afe5-5a9e9a4754ed",
   "metadata": {},
   "outputs": [
    {
     "data": {
      "text/html": [
       "<pre style=\"white-space:pre;overflow-x:auto;line-height:normal;font-family:Menlo,'DejaVu Sans Mono',consolas,'Courier New',monospace\"></pre>\n"
      ],
      "text/plain": []
     },
     "metadata": {},
     "output_type": "display_data"
    },
    {
     "data": {
      "text/plain": [
       "\u001b[32m'654aec0c9ba4f70cf56060b7'\u001b[0m"
      ]
     },
     "execution_count": 67,
     "metadata": {},
     "output_type": "execute_result"
    }
   ],
   "source": [
    "validation_id[\"validation_id\"]"
   ]
  },
  {
   "cell_type": "code",
   "execution_count": 70,
   "id": "a5385836-5035-44b7-b064-ad51d6f58aee",
   "metadata": {},
   "outputs": [
    {
     "data": {
      "text/html": [
       "<pre style=\"white-space:pre;overflow-x:auto;line-height:normal;font-family:Menlo,'DejaVu Sans Mono',consolas,'Courier New',monospace\"><span style=\"color: #7fbfbf; text-decoration-color: #7fbfbf\">[11/08/23 02:17:42] </span><span style=\"color: #000080; text-decoration-color: #000080\">INFO    </span> Loading data from <span style=\"color: #008000; text-decoration-color: #008000\">'params:genai_api_root'</span> <span style=\"font-weight: bold\">(</span>MemoryDataset<span style=\"font-weight: bold\">)</span><span style=\"color: #808000; text-decoration-color: #808000\">...</span>       <a href=\"file:///Users/lukas.innig/code/genai/cert3/datarobot-genai/.venv/lib/python3.10/site-packages/kedro/io/data_catalog.py\" target=\"_blank\"><span style=\"color: #7f7f7f; text-decoration-color: #7f7f7f\">data_catalog.py</span></a><span style=\"color: #7f7f7f; text-decoration-color: #7f7f7f\">:</span><a href=\"file:///Users/lukas.innig/code/genai/cert3/datarobot-genai/.venv/lib/python3.10/site-packages/kedro/io/data_catalog.py#502\" target=\"_blank\"><span style=\"color: #7f7f7f; text-decoration-color: #7f7f7f\">502</span></a>\n",
       "</pre>\n"
      ],
      "text/plain": [
       "\u001b[2;36m[11/08/23 02:17:42]\u001b[0m\u001b[2;36m \u001b[0m\u001b[34mINFO    \u001b[0m Loading data from \u001b[32m'params:genai_api_root'\u001b[0m \u001b[1m(\u001b[0mMemoryDataset\u001b[1m)\u001b[0m\u001b[33m...\u001b[0m       \u001b]8;id=914128;file:///Users/lukas.innig/code/genai/cert3/datarobot-genai/.venv/lib/python3.10/site-packages/kedro/io/data_catalog.py\u001b\\\u001b[2mdata_catalog.py\u001b[0m\u001b]8;;\u001b\\\u001b[2m:\u001b[0m\u001b]8;id=991926;file:///Users/lukas.innig/code/genai/cert3/datarobot-genai/.venv/lib/python3.10/site-packages/kedro/io/data_catalog.py#502\u001b\\\u001b[2m502\u001b[0m\u001b]8;;\u001b\\\n"
      ]
     },
     "metadata": {},
     "output_type": "display_data"
    }
   ],
   "source": [
    "genai_api_root = catalog.load(\"params:genai_api_root\")"
   ]
  },
  {
   "cell_type": "code",
   "execution_count": 74,
   "id": "4c1e764f-df21-4043-8431-6fba48706a7c",
   "metadata": {},
   "outputs": [],
   "source": [
    "llm_blueprint_payload = {\n",
    "    \"name\": \"bla\",\n",
    "    \"playgroundId\": playground[\"id\"],\n",
    "    \"llmId\": 'custom-model',\n",
    "    # Uncomment this if you'd like to use a vector database\n",
    "    # \"vectorDatabaseId\": \"abcdef0123456789\",\n",
    "    'llmSettings': {'systemPrompt': 'Yo', 'validationId': validation_id[\"validation_id\"]},\n",
    "}\n",
    "client = dr.client.get_client()\n",
    "response = client.post(\n",
    "    f\"{genai_api_root}/llmBlueprints/\", json=llm_blueprint_payload\n",
    ")\n",
    "llm_blueprint = response.json()"
   ]
  },
  {
   "cell_type": "code",
   "execution_count": 75,
   "id": "5395c7b8-e592-48e2-b988-3a328f5c57e7",
   "metadata": {},
   "outputs": [
    {
     "data": {
      "text/html": [
       "<pre style=\"white-space:pre;overflow-x:auto;line-height:normal;font-family:Menlo,'DejaVu Sans Mono',consolas,'Courier New',monospace\"></pre>\n"
      ],
      "text/plain": []
     },
     "metadata": {},
     "output_type": "display_data"
    },
    {
     "data": {
      "text/plain": [
       "\n",
       "\u001b[1m{\u001b[0m\n",
       "    \u001b[32m'vectorDatabaseId'\u001b[0m: \u001b[3;35mNone\u001b[0m,\n",
       "    \u001b[32m'vectorDatabaseSettings'\u001b[0m: \u001b[3;35mNone\u001b[0m,\n",
       "    \u001b[32m'llmId'\u001b[0m: \u001b[32m'custom-model'\u001b[0m,\n",
       "    \u001b[32m'llmSettings'\u001b[0m: \u001b[1m{\u001b[0m\u001b[32m'systemPrompt'\u001b[0m: \u001b[32m'Yo'\u001b[0m, \u001b[32m'validationId'\u001b[0m: \u001b[32m'654aec0c9ba4f70cf56060b7'\u001b[0m\u001b[1m}\u001b[0m,\n",
       "    \u001b[32m'id'\u001b[0m: \u001b[32m'654af010258d3b9d356497e7'\u001b[0m,\n",
       "    \u001b[32m'name'\u001b[0m: \u001b[32m'bla'\u001b[0m,\n",
       "    \u001b[32m'description'\u001b[0m: \u001b[32m''\u001b[0m,\n",
       "    \u001b[32m'isSaved'\u001b[0m: \u001b[3;91mFalse\u001b[0m,\n",
       "    \u001b[32m'playgroundId'\u001b[0m: \u001b[32m'654ad0f9258d3b9d356497d8'\u001b[0m,\n",
       "    \u001b[32m'llmName'\u001b[0m: \u001b[32m'Custom Model'\u001b[0m,\n",
       "    \u001b[32m'creationDate'\u001b[0m: \u001b[32m'2023-11-08T02:18:56.325936+00:00'\u001b[0m,\n",
       "    \u001b[32m'creationUserId'\u001b[0m: \u001b[32m'5a9d0e1352cc1b021edba68f'\u001b[0m,\n",
       "    \u001b[32m'lastUpdateDate'\u001b[0m: \u001b[32m'2023-11-08T02:18:56.325942+00:00'\u001b[0m,\n",
       "    \u001b[32m'lastUpdateUserId'\u001b[0m: \u001b[32m'5a9d0e1352cc1b021edba68f'\u001b[0m,\n",
       "    \u001b[32m'vectorDatabaseName'\u001b[0m: \u001b[3;35mNone\u001b[0m,\n",
       "    \u001b[32m'vectorDatabaseStatus'\u001b[0m: \u001b[3;35mNone\u001b[0m,\n",
       "    \u001b[32m'vectorDatabaseErrorMessage'\u001b[0m: \u001b[3;35mNone\u001b[0m,\n",
       "    \u001b[32m'vectorDatabaseErrorResolution'\u001b[0m: \u001b[3;35mNone\u001b[0m,\n",
       "    \u001b[32m'customModelLLMValidationStatus'\u001b[0m: \u001b[32m'PASSED'\u001b[0m,\n",
       "    \u001b[32m'customModelLLMErrorMessage'\u001b[0m: \u001b[3;35mNone\u001b[0m,\n",
       "    \u001b[32m'customModelLLMErrorResolution'\u001b[0m: \u001b[3;35mNone\u001b[0m\n",
       "\u001b[1m}\u001b[0m"
      ]
     },
     "execution_count": 75,
     "metadata": {},
     "output_type": "execute_result"
    }
   ],
   "source": [
    "llm_blueprint"
   ]
  },
  {
   "cell_type": "code",
   "execution_count": null,
   "id": "ed1613d5-7154-4936-a236-24fccc51e6f8",
   "metadata": {},
   "outputs": [],
   "source": []
  }
 ],
 "metadata": {
  "kernelspec": {
   "display_name": "Kedro (datarobot_genai)",
   "language": "python",
   "name": "kedro_datarobot_genai"
  },
  "language_info": {
   "codemirror_mode": {
    "name": "ipython",
    "version": 3
   },
   "file_extension": ".py",
   "mimetype": "text/x-python",
   "name": "python",
   "nbconvert_exporter": "python",
   "pygments_lexer": "ipython3",
   "version": "3.10.4"
  }
 },
 "nbformat": 4,
 "nbformat_minor": 5
}
