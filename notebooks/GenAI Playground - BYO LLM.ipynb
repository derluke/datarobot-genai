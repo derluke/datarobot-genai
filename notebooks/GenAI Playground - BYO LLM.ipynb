{
	"cells": [
		{
			"id": "653fc0d37f553dc3bfbca0cb",
			"cell_type": "markdown",
			"source": "This notebook registers a custom model LLM to be used in a GenAI Playground.\n\n## Prerequisites\n\nThe notebook assumes you already have a deployed custom model with the Text Generation output type.\n\n## Feature Flags\n\nMake sure the following feature flags are enabled:\n\n   * Enable Document Ingest\n   * Enable Custom Inference Models\n   * Enable the Injection of Runtime Parameters for Custom Models\n   * Enable Public Network Access for all Custom Models\n   * Enable Monitoring Support for Generative Models\n   * Enable GenAI Experimentation\n\n## Configuration\n\n   * Set the `DATAROBOT_API_TOKEN` environment variable in this notebook to the value of a manually created DataRobot API Key.\n   * Set the `BYO_LLM_DEPLOYMENT_ID` environment variable in this notebook to the value of your custom LLM deployment.",
			"metadata": {
				"collapsed": false,
				"scrolled": false,
				"datarobot": {
					"language": "markdown"
				},
				"hide_code": false,
				"hide_results": false,
				"disable_run": false,
				"chart_settings": null,
				"custom_metric_settings": null,
				"dataframe_view_options": null
			}
		},
		{
			"id": "653fc0d37f553dc3bfbca0cc",
			"cell_type": "code",
			"source": "import os\nimport requests\nimport time",
			"metadata": {
				"name": "First Cell",
				"collapsed": true,
				"scrolled": "auto",
				"datarobot": {
					"language": "python"
				},
				"hide_code": false,
				"hide_results": false,
				"disable_run": false,
				"chart_settings": null,
				"custom_metric_settings": null,
				"dataframe_view_options": null
			},
			"outputs": [],
			"execution_count": null
		},
		{
			"id": "653fc0d37f553dc3bfbca0cd",
			"cell_type": "code",
			"source": "byo_llm_deployment_id = os.environ[\"BYO_LLM_DEPLOYMENT_ID\"]\n\ngenai_endpoint_url = \"https://staging.datarobot.com/api-gw/genai\"\ndatarobot_api_key = os.environ[\"DATAROBOT_API_TOKEN\"]\n\ngenai_client = requests.session()\ngenai_client.headers.update({\"Authorization\": f\"Bearer {datarobot_api_key}\"})",
			"metadata": {
				"collapsed": false,
				"scrolled": false,
				"datarobot": {
					"language": "python"
				},
				"hide_code": false,
				"hide_results": false,
				"disable_run": false,
				"chart_settings": null,
				"custom_metric_settings": null,
				"dataframe_view_options": null
			},
			"outputs": [],
			"execution_count": null
		},
		{
			"id": "653fc0d37f553dc3bfbca0ce",
			"cell_type": "markdown",
			"source": "## Validate the custom model deployment",
			"metadata": {
				"collapsed": false,
				"scrolled": false,
				"datarobot": {
					"language": "markdown"
				},
				"hide_code": false,
				"hide_results": false,
				"disable_run": false,
				"chart_settings": null,
				"custom_metric_settings": null,
				"dataframe_view_options": null
			}
		},
		{
			"id": "653fc0d37f553dc3bfbca0cf",
			"cell_type": "markdown",
			"source": "Request a new custom model validation",
			"metadata": {
				"collapsed": false,
				"scrolled": false,
				"datarobot": {
					"language": "markdown"
				},
				"hide_code": false,
				"hide_results": false,
				"disable_run": false,
				"chart_settings": null,
				"custom_metric_settings": null,
				"dataframe_view_options": null
			}
		},
		{
			"id": "653fc0d37f553dc3bfbca0d0",
			"cell_type": "code",
			"source": "validation_payload = {\n    \"promptColumnName\": \"promptText\",\n    \"targetColumnName\": \"resultText\",\n    \"deploymentId\": byo_llm_deployment_id,\n}\nresponse = genai_client.post(f\"{genai_endpoint_url}/customModelLLMValidations/\", json=validation_payload)\nstatus_tracking_url = response.headers.get('Location')\n\nprint(f\"Response: {response.status_code}\")\nprint(f\"Status tracking URL: {status_tracking_url}\")",
			"metadata": {
				"collapsed": false,
				"scrolled": false,
				"datarobot": {
					"language": "python"
				},
				"hide_code": false,
				"hide_results": false,
				"disable_run": false,
				"chart_settings": null,
				"custom_metric_settings": null,
				"dataframe_view_options": null
			},
			"outputs": [
				{
					"output_type": "execute_result",
					"execution_count": 5,
					"data": {
						"text/plain": "Response: 202\nStatus tracking URL: https://staging.datarobot.com/api-gw/genai/status/b0521405-2958-4f25-b5c3-ffd9417e5522/\n"
					},
					"metadata": {}
				}
			],
			"execution_count": null
		},
		{
			"id": "653fc0d37f553dc3bfbca0d1",
			"cell_type": "markdown",
			"source": "Wait for the validation job to finish",
			"metadata": {
				"collapsed": false,
				"scrolled": false,
				"datarobot": {
					"language": "markdown"
				},
				"hide_code": false,
				"hide_results": false,
				"disable_run": false,
				"chart_settings": null,
				"custom_metric_settings": null,
				"dataframe_view_options": null
			}
		},
		{
			"id": "653fc0d37f553dc3bfbca0d2",
			"cell_type": "code",
			"source": "validation_id = None\n\n# Waiting timeout = 60 seconds\nfor _ in range(60):\n    status_response = genai_client.get(status_tracking_url, allow_redirects=False)\n\n    if status_response.status_code == 303:\n        validation_id = response.json()[\"id\"]\n        validation = genai_client.get(f\"{genai_endpoint_url}/customModelLLMValidations/{validation_id}/\").json()\n        validation_status = validation[\"validationStatus\"]\n\n        if validation_status == \"PASSED\":\n            print(f\"Successful validation ID: {validation['id']}\")\n            break\n        else:\n            raise RuntimeError(f\"Expected a successful validation, got: {validation_status}\")\n\n    time.sleep(1)\n\nif not validation_id:\n    raise RuntimeError(\"Timed out waiting for custom model validation to succeed\")",
			"metadata": {
				"collapsed": false,
				"scrolled": false,
				"datarobot": {
					"language": "python"
				},
				"hide_code": false,
				"hide_results": false,
				"disable_run": false,
				"chart_settings": null,
				"custom_metric_settings": null,
				"dataframe_view_options": null
			},
			"outputs": [
				{
					"output_type": "execute_result",
					"execution_count": 4,
					"data": {
						"text/plain": "Successful validation ID: 6543e385b8ed06236c7b63ae\n"
					},
					"metadata": {}
				}
			],
			"execution_count": null
		},
		{
			"id": "653fc0d37f553dc3bfbca0d3",
			"cell_type": "code",
			"source": "",
			"metadata": {
				"collapsed": false,
				"scrolled": false,
				"datarobot": {
					"language": "python"
				},
				"hide_code": false,
				"hide_results": false,
				"disable_run": false,
				"chart_settings": null,
				"custom_metric_settings": null,
				"dataframe_view_options": null
			},
			"outputs": [],
			"execution_count": null
		}
	],
	"metadata": {
		"kernelspec": {
			"name": "python",
			"language": "python",
			"display_name": "Python 3.9.16"
		},
		"language_info": {
			"name": "python",
			"version": ""
		}
	},
	"nbformat": 4,
	"nbformat_minor": 5
}