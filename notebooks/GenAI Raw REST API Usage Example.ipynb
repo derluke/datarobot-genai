{
 "cells": [
  {
   "cell_type": "code",
   "execution_count": 1,
   "id": "653eb91a7f553dc3bfbc505f",
   "metadata": {
    "chart_settings": null,
    "collapsed": true,
    "custom_metric_settings": null,
    "dataframe_view_options": null,
    "datarobot": {
     "language": "python"
    },
    "disable_run": false,
    "hide_code": false,
    "hide_results": false,
    "jupyter": {
     "outputs_hidden": true
    },
    "name": "First Cell"
   },
   "outputs": [],
   "source": [
    "import time\n",
    "import os\n",
    "import datarobot as dr\n",
    "import requests"
   ]
  },
  {
   "cell_type": "code",
   "execution_count": 2,
   "id": "653eb91a7f553dc3bfbc5060",
   "metadata": {
    "chart_settings": null,
    "collapsed": false,
    "custom_metric_settings": null,
    "dataframe_view_options": null,
    "datarobot": {
     "language": "python"
    },
    "disable_run": false,
    "hide_code": false,
    "hide_results": false,
    "jupyter": {
     "outputs_hidden": false
    }
   },
   "outputs": [],
   "source": [
    "GENAI_API_ROOT = \"https://staging.datarobot.com/api-gw/genai\"\n",
    "dr_api_token = os.environ[\"DATAROBOT_V2_API_TOKEN\"]"
   ]
  },
  {
   "cell_type": "code",
   "execution_count": 3,
   "id": "653eb91a7f553dc3bfbc5061",
   "metadata": {
    "chart_settings": null,
    "collapsed": false,
    "custom_metric_settings": null,
    "dataframe_view_options": null,
    "datarobot": {
     "language": "python"
    },
    "disable_run": false,
    "hide_code": false,
    "hide_results": false,
    "jupyter": {
     "outputs_hidden": false
    }
   },
   "outputs": [
    {
     "data": {
      "text/plain": [
       "<datarobot.rest.RESTClientObject at 0x7f9616bf0ac0>"
      ]
     },
     "execution_count": 3,
     "metadata": {},
     "output_type": "execute_result"
    }
   ],
   "source": [
    "# Initialize the DataRobot client.\n",
    "dr.Client(endpoint=\"https://staging.datarobot.com/api/v2\", token=dr_api_token)"
   ]
  },
  {
   "cell_type": "code",
   "execution_count": 4,
   "id": "653eb91a7f553dc3bfbc5062",
   "metadata": {
    "chart_settings": null,
    "collapsed": false,
    "custom_metric_settings": null,
    "dataframe_view_options": null,
    "datarobot": {
     "language": "python"
    },
    "disable_run": false,
    "hide_code": false,
    "hide_results": false,
    "jupyter": {
     "outputs_hidden": false
    }
   },
   "outputs": [],
   "source": [
    "# Initialize the GenAI client.\n",
    "genai_client = requests.session()\n",
    "genai_client.headers.update({\"Authorization\": f\"Bearer {dr_api_token}\"})"
   ]
  },
  {
   "cell_type": "code",
   "execution_count": 6,
   "id": "653eb91a7f553dc3bfbc5063",
   "metadata": {
    "chart_settings": null,
    "collapsed": false,
    "custom_metric_settings": null,
    "dataframe_view_options": null,
    "datarobot": {
     "language": "python"
    },
    "disable_run": false,
    "hide_code": false,
    "hide_results": false,
    "jupyter": {
     "outputs_hidden": false
    }
   },
   "outputs": [],
   "source": [
    "# Create a Use Case.\n",
    "use_case = dr.UseCase.create(name=\"GenAI Cert 3 Buzok Use Case\")"
   ]
  },
  {
   "cell_type": "code",
   "execution_count": 7,
   "id": "653eb91a7f553dc3bfbc5064",
   "metadata": {
    "chart_settings": null,
    "collapsed": false,
    "custom_metric_settings": null,
    "dataframe_view_options": null,
    "datarobot": {
     "language": "python"
    },
    "disable_run": false,
    "hide_code": false,
    "hide_results": false,
    "jupyter": {
     "outputs_hidden": false
    }
   },
   "outputs": [
    {
     "data": {
      "text/plain": [
       "{'id': '653f0c75b4150fd13e2de077',\n",
       " 'name': 'BYO LLM Playground',\n",
       " 'description': 'This is a playground created using the REST API',\n",
       " 'useCaseId': '653f0a57fd42757c7f067e98',\n",
       " 'creationDate': '2023-10-30T01:52:53.745875+00:00',\n",
       " 'creationUserId': '5b964766d709b105092df65e',\n",
       " 'lastUpdateDate': '2023-10-30T01:52:53.745882+00:00',\n",
       " 'lastUpdateUserId': '5b964766d709b105092df65e',\n",
       " 'savedLLMBlueprintsCount': 0}"
      ]
     },
     "execution_count": 7,
     "metadata": {},
     "output_type": "execute_result"
    }
   ],
   "source": [
    "# Create a Playground in the Use Case.\n",
    "playground_payload = {\n",
    "    \"name\": \"BYO LLM Playground\",\n",
    "    \"description\": \"This is a playground created using the REST API\",\n",
    "    \"useCaseId\": use_case.id,\n",
    "}\n",
    "\n",
    "response = genai_client.post(f\"{GENAI_API_ROOT}/playgrounds/\", json=playground_payload)\n",
    "playground = response.json()\n",
    "playground"
   ]
  },
  {
   "cell_type": "code",
   "execution_count": 8,
   "id": "653eb91a7f553dc3bfbc5065",
   "metadata": {
    "chart_settings": null,
    "collapsed": false,
    "custom_metric_settings": null,
    "dataframe_view_options": null,
    "datarobot": {
     "language": "python"
    },
    "disable_run": false,
    "hide_code": false,
    "hide_results": false,
    "jupyter": {
     "outputs_hidden": false
    }
   },
   "outputs": [
    {
     "data": {
      "text/plain": [
       "{'vectorDatabaseId': None,\n",
       " 'vectorDatabaseSettings': None,\n",
       " 'llmId': 'azure-openai-gpt-3.5-turbo',\n",
       " 'llmSettings': {'systemPrompt': '',\n",
       "  'maxCompletionLength': 1024,\n",
       "  'temperature': 1.0,\n",
       "  'topP': 1.0},\n",
       " 'id': '653f0cd0b4150fd13e2de078',\n",
       " 'name': 'Pre-baked LLM Blueprint',\n",
       " 'description': '',\n",
       " 'isSaved': False,\n",
       " 'playgroundId': '653f0c75b4150fd13e2de077',\n",
       " 'llmName': 'Azure OpenAI GPT-3.5 Turbo',\n",
       " 'creationDate': '2023-10-30T01:54:24.672326+00:00',\n",
       " 'creationUserId': '5b964766d709b105092df65e',\n",
       " 'lastUpdateDate': '2023-10-30T01:54:24.672331+00:00',\n",
       " 'lastUpdateUserId': '5b964766d709b105092df65e',\n",
       " 'vectorDatabaseName': None,\n",
       " 'vectorDatabaseStatus': None,\n",
       " 'vectorDatabaseErrorMessage': None,\n",
       " 'vectorDatabaseErrorResolution': None,\n",
       " 'customModelLLMValidationStatus': None,\n",
       " 'customModelLLMErrorMessage': None,\n",
       " 'customModelLLMErrorResolution': None}"
      ]
     },
     "execution_count": 8,
     "metadata": {},
     "output_type": "execute_result"
    }
   ],
   "source": [
    "# Create a draft LLM blueprint.\n",
    "llm_blueprint_payload = {\n",
    "    \"name\": \"Pre-baked LLM Blueprint\",\n",
    "    \"playgroundId\": playground[\"id\"],\n",
    "    \"llmId\": \"azure-openai-gpt-3.5-turbo\",\n",
    "    # Uncomment this if you'd like to use a vector database\n",
    "    #\"vectorDatabaseId\": \"abcdef0123456789\",\n",
    "}\n",
    "\n",
    "response = genai_client.post(f\"{GENAI_API_ROOT}/llmBlueprints/\", json=llm_blueprint_payload)\n",
    "llm_blueprint = response.json()\n",
    "llm_blueprint"
   ]
  },
  {
   "cell_type": "code",
   "execution_count": 9,
   "id": "653eb91a7f553dc3bfbc5066",
   "metadata": {
    "chart_settings": null,
    "collapsed": false,
    "custom_metric_settings": null,
    "dataframe_view_options": null,
    "datarobot": {
     "language": "python"
    },
    "disable_run": false,
    "hide_code": false,
    "hide_results": false,
    "jupyter": {
     "outputs_hidden": false
    }
   },
   "outputs": [
    {
     "data": {
      "text/plain": [
       "{'vectorDatabaseId': None,\n",
       " 'vectorDatabaseSettings': None,\n",
       " 'llmId': 'azure-openai-gpt-3.5-turbo',\n",
       " 'llmSettings': {'systemPrompt': '',\n",
       "  'maxCompletionLength': 1024,\n",
       "  'temperature': 1.0,\n",
       "  'topP': 1.0},\n",
       " 'id': '653f0cdfdf55afa6b2739178',\n",
       " 'text': 'What is DataRobot?',\n",
       " 'llmBlueprintId': '653f0cd0b4150fd13e2de078',\n",
       " 'creationDate': '2023-10-30T01:54:39.322216+00:00',\n",
       " 'creationUserId': '5b964766d709b105092df65e',\n",
       " 'resultMetadata': None,\n",
       " 'resultText': None,\n",
       " 'confidenceScores': None,\n",
       " 'citations': [],\n",
       " 'executionStatus': 'NEW'}"
      ]
     },
     "execution_count": 9,
     "metadata": {},
     "output_type": "execute_result"
    }
   ],
   "source": [
    "# Submit a prompt\n",
    "prompt_payload = {\n",
    "    \"llmBlueprintId\": llm_blueprint[\"id\"],\n",
    "    \"text\": \"What is DataRobot?\",\n",
    "}\n",
    "\n",
    "response = genai_client.post(f\"{GENAI_API_ROOT}/chatPrompts/\", json=prompt_payload)\n",
    "\n",
    "prompt_status_tracking_url = response.headers[\"Location\"]\n",
    "prompt = response.json()\n",
    "prompt"
   ]
  },
  {
   "cell_type": "code",
   "execution_count": 10,
   "id": "653eb91a7f553dc3bfbc5067",
   "metadata": {
    "chart_settings": null,
    "collapsed": false,
    "custom_metric_settings": null,
    "dataframe_view_options": null,
    "datarobot": {
     "language": "python"
    },
    "disable_run": false,
    "hide_code": false,
    "hide_results": false,
    "jupyter": {
     "outputs_hidden": false
    }
   },
   "outputs": [
    {
     "data": {
      "text/plain": [
       "Prompt completed successfully\n"
      ]
     },
     "execution_count": 10,
     "metadata": {},
     "output_type": "execute_result"
    }
   ],
   "source": [
    "# Wait for the prompt to complete.\n",
    "for _ in range(60):\n",
    "    prompt_status_response = genai_client.get(prompt_status_tracking_url, allow_redirects=False)\n",
    "    if prompt_status_response.status_code == 303:\n",
    "        print(\"Prompt completed successfully\")\n",
    "        break\n",
    "    else:\n",
    "        print(\"Waiting for the prompt to complete...\")\n",
    "        time.sleep(1)"
   ]
  },
  {
   "cell_type": "code",
   "execution_count": 11,
   "id": "653eb91a7f553dc3bfbc5068",
   "metadata": {
    "chart_settings": null,
    "collapsed": false,
    "custom_metric_settings": null,
    "dataframe_view_options": null,
    "datarobot": {
     "language": "python"
    },
    "disable_run": false,
    "hide_code": false,
    "hide_results": false,
    "jupyter": {
     "outputs_hidden": false
    }
   },
   "outputs": [
    {
     "data": {
      "text/plain": [
       "Prompt output:  DataRobot is an automated machine learning platform that assists organizations in building and deploying accurate predictive models. It utilizes cutting-edge technologies such as artificial intelligence and machine learning algorithms to automate the end-to-end process of designing, training, and deploying models. DataRobot enables users without specialized data science skills to generate actionable insights from complex datasets efficiently. It offers various features, including data preprocessing, automated feature engineering, model selection, hyperparameter tuning, and model deployment.\n"
      ]
     },
     "execution_count": 11,
     "metadata": {},
     "output_type": "execute_result"
    }
   ],
   "source": [
    "# Get prompt output.\n",
    "response = genai_client.get(f\"{GENAI_API_ROOT}/chatPrompts/{prompt['id']}/\")\n",
    "completed_prompt = response.json()\n",
    "print(\"Prompt output: \", completed_prompt[\"resultText\"])"
   ]
  },
  {
   "cell_type": "code",
   "execution_count": null,
   "id": "653f0cf67f553dc3bfbc69d3",
   "metadata": {
    "chart_settings": null,
    "collapsed": false,
    "custom_metric_settings": null,
    "dataframe_view_options": null,
    "datarobot": {
     "language": "python"
    },
    "disable_run": false,
    "hide_code": false,
    "hide_results": false,
    "jupyter": {
     "outputs_hidden": false
    }
   },
   "outputs": [],
   "source": []
  }
 ],
 "metadata": {
  "kernelspec": {
   "display_name": "Kedro (datarobot_genai)",
   "language": "python",
   "name": "kedro_datarobot_genai"
  },
  "language_info": {
   "codemirror_mode": {
    "name": "ipython",
    "version": 3
   },
   "file_extension": ".py",
   "mimetype": "text/x-python",
   "name": "python",
   "nbconvert_exporter": "python",
   "pygments_lexer": "ipython3",
   "version": "3.11.3"
  }
 },
 "nbformat": 4,
 "nbformat_minor": 5
}
