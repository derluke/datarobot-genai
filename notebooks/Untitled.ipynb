{
 "cells": [
  {
   "cell_type": "code",
   "execution_count": 1,
   "id": "3d97314f-420a-4f34-bbeb-1718f0636b0a",
   "metadata": {},
   "outputs": [
    {
     "data": {
      "text/html": [
       "<pre style=\"white-space:pre;overflow-x:auto;line-height:normal;font-family:Menlo,'DejaVu Sans Mono',consolas,'Courier New',monospace\"></pre>\n"
      ],
      "text/plain": []
     },
     "metadata": {},
     "output_type": "display_data"
    },
    {
     "data": {
      "text/plain": [
       "\u001b[1m<\u001b[0m\u001b[1;95mkedro.io.data_catalog.DataCatalog\u001b[0m\u001b[39m object at \u001b[0m\u001b[1;36m0x124bb10c0\u001b[0m\u001b[1m>\u001b[0m"
      ]
     },
     "execution_count": 1,
     "metadata": {},
     "output_type": "execute_result"
    }
   ],
   "source": [
    "catalog"
   ]
  },
  {
   "cell_type": "code",
   "execution_count": 2,
   "id": "dc5c47b1-50eb-46eb-90a6-1a5eff86ad7a",
   "metadata": {},
   "outputs": [
    {
     "data": {
      "text/html": [
       "<pre style=\"white-space:pre;overflow-x:auto;line-height:normal;font-family:Menlo,'DejaVu Sans Mono',consolas,'Courier New',monospace\"></pre>\n"
      ],
      "text/plain": []
     },
     "metadata": {},
     "output_type": "display_data"
    },
    {
     "data": {
      "text/plain": [
       "\n",
       "\u001b[1m[\u001b[0m\n",
       "    \u001b[32m'cohere_credentials'\u001b[0m,\n",
       "    \u001b[32m'vector_database_raw'\u001b[0m,\n",
       "    \u001b[32m'vector_database_dataset'\u001b[0m,\n",
       "    \u001b[32m'vector_database'\u001b[0m,\n",
       "    \u001b[32m'vector_database_settings'\u001b[0m,\n",
       "    \u001b[32m'use_case'\u001b[0m,\n",
       "    \u001b[32m'playground'\u001b[0m,\n",
       "    \u001b[32m'custom_py'\u001b[0m,\n",
       "    \u001b[32m'custom_model_validation'\u001b[0m,\n",
       "    \u001b[32m'parameters'\u001b[0m,\n",
       "    \u001b[32m'params:system_prompt'\u001b[0m,\n",
       "    \u001b[32m'params:pre_baked_llm_blueprint'\u001b[0m,\n",
       "    \u001b[32m'params:pre_baked_llm_blueprint.name'\u001b[0m,\n",
       "    \u001b[32m'params:pre_baked_llm_blueprint.id'\u001b[0m,\n",
       "    \u001b[32m'params:byo_llm_blueprint'\u001b[0m,\n",
       "    \u001b[32m'params:byo_llm_blueprint.name'\u001b[0m,\n",
       "    \u001b[32m'params:vector_database_settings'\u001b[0m,\n",
       "    \u001b[32m'params:vector_database_settings.max_documents_retrieved_per_prompt'\u001b[0m,\n",
       "    \u001b[32m'params:vector_database_settings.batch_size'\u001b[0m,\n",
       "    \u001b[32m'params:vector_database_settings.max_tokens'\u001b[0m,\n",
       "    \u001b[32m'params:prompt_text'\u001b[0m,\n",
       "    \u001b[32m'params:byo_llm_deployment'\u001b[0m,\n",
       "    \u001b[32m'params:byo_llm_deployment.genai_api_root'\u001b[0m,\n",
       "    \u001b[32m'params:byo_llm_deployment.prompt_text'\u001b[0m\n",
       "\u001b[1m]\u001b[0m"
      ]
     },
     "execution_count": 2,
     "metadata": {},
     "output_type": "execute_result"
    }
   ],
   "source": [
    "catalog.list()"
   ]
  },
  {
   "cell_type": "code",
   "execution_count": 4,
   "id": "fba78fdd-f650-467a-a8a9-ae59a69d7b9e",
   "metadata": {},
   "outputs": [
    {
     "data": {
      "text/html": [
       "<pre style=\"white-space:pre;overflow-x:auto;line-height:normal;font-family:Menlo,'DejaVu Sans Mono',consolas,'Courier New',monospace\"><span style=\"color: #7fbfbf; text-decoration-color: #7fbfbf\">[11/09/23 09:48:04] </span><span style=\"color: #000080; text-decoration-color: #000080\">INFO    </span> Loading data from <span style=\"color: #008000; text-decoration-color: #008000\">'use_case'</span> <span style=\"font-weight: bold\">(</span>PickleDataset<span style=\"font-weight: bold\">)</span><span style=\"color: #808000; text-decoration-color: #808000\">...</span>                    <a href=\"file:///Users/lukas.innig/code/genai/cert3/datarobot-genai/.venv/lib/python3.10/site-packages/kedro/io/data_catalog.py\" target=\"_blank\"><span style=\"color: #7f7f7f; text-decoration-color: #7f7f7f\">data_catalog.py</span></a><span style=\"color: #7f7f7f; text-decoration-color: #7f7f7f\">:</span><a href=\"file:///Users/lukas.innig/code/genai/cert3/datarobot-genai/.venv/lib/python3.10/site-packages/kedro/io/data_catalog.py#502\" target=\"_blank\"><span style=\"color: #7f7f7f; text-decoration-color: #7f7f7f\">502</span></a>\n",
       "</pre>\n"
      ],
      "text/plain": [
       "\u001b[2;36m[11/09/23 09:48:04]\u001b[0m\u001b[2;36m \u001b[0m\u001b[34mINFO    \u001b[0m Loading data from \u001b[32m'use_case'\u001b[0m \u001b[1m(\u001b[0mPickleDataset\u001b[1m)\u001b[0m\u001b[33m...\u001b[0m                    \u001b]8;id=230406;file:///Users/lukas.innig/code/genai/cert3/datarobot-genai/.venv/lib/python3.10/site-packages/kedro/io/data_catalog.py\u001b\\\u001b[2mdata_catalog.py\u001b[0m\u001b]8;;\u001b\\\u001b[2m:\u001b[0m\u001b]8;id=620423;file:///Users/lukas.innig/code/genai/cert3/datarobot-genai/.venv/lib/python3.10/site-packages/kedro/io/data_catalog.py#502\u001b\\\u001b[2m502\u001b[0m\u001b]8;;\u001b\\\n"
      ]
     },
     "metadata": {},
     "output_type": "display_data"
    }
   ],
   "source": [
    "use_case = catalog.load(\"use_case\")"
   ]
  },
  {
   "cell_type": "code",
   "execution_count": 6,
   "id": "12844fa9-2123-4e53-a969-d13c48361473",
   "metadata": {},
   "outputs": [
    {
     "data": {
      "text/html": [
       "<pre style=\"white-space:pre;overflow-x:auto;line-height:normal;font-family:Menlo,'DejaVu Sans Mono',consolas,'Courier New',monospace\"></pre>\n"
      ],
      "text/plain": []
     },
     "metadata": {},
     "output_type": "display_data"
    },
    {
     "data": {
      "text/plain": [
       "\u001b[1;36m0\u001b[0m"
      ]
     },
     "execution_count": 6,
     "metadata": {},
     "output_type": "execute_result"
    }
   ],
   "source": [
    "use_case.models_count"
   ]
  },
  {
   "cell_type": "code",
   "execution_count": 7,
   "id": "fdefaa49-0260-4032-add1-840db89abbfd",
   "metadata": {},
   "outputs": [],
   "source": [
    "from datarobot_genai.pipelines.byo_llm_deployment.nodes import deploy_custom_llm"
   ]
  },
  {
   "cell_type": "code",
   "execution_count": 8,
   "id": "05fe9649-0f7b-4360-9f41-a975a6c8e34b",
   "metadata": {},
   "outputs": [],
   "source": [
    "import datarobotx as drx"
   ]
  },
  {
   "cell_type": "code",
   "execution_count": null,
   "id": "147b9022-e18b-4979-902d-609f70561f84",
   "metadata": {},
   "outputs": [],
   "source": [
    "drx.deploy("
   ]
  }
 ],
 "metadata": {
  "kernelspec": {
   "display_name": "Kedro (datarobot_genai)",
   "language": "python",
   "name": "kedro_datarobot_genai"
  },
  "language_info": {
   "codemirror_mode": {
    "name": "ipython",
    "version": 3
   },
   "file_extension": ".py",
   "mimetype": "text/x-python",
   "name": "python",
   "nbconvert_exporter": "python",
   "pygments_lexer": "ipython3",
   "version": "3.10.4"
  }
 },
 "nbformat": 4,
 "nbformat_minor": 5
}
